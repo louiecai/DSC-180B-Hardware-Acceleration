{
 "cells": [
  {
   "cell_type": "code",
   "execution_count": null,
   "id": "9791a856",
   "metadata": {},
   "outputs": [],
   "source": [
    "import pandas as pd\n",
    "import numpy as np\n",
    "from numpy import nan\n",
    "import os"
   ]
  },
  {
   "cell_type": "markdown",
   "id": "3728f244",
   "metadata": {},
   "source": [
    "## Environment Data\n",
    "Data relevant to the spec for each environment"
   ]
  },
  {
   "cell_type": "code",
   "execution_count": null,
   "id": "eb535af9",
   "metadata": {
    "scrolled": true
   },
   "outputs": [],
   "source": [
    "env_data = pd.read_csv(\"data/env_data.csv\", index_col=0)\n",
    "env_data\n",
    "\n",
    "# env_data.to_csv(\"data/env_data.csv\")"
   ]
  },
  {
   "cell_type": "markdown",
   "id": "040e1076",
   "metadata": {},
   "source": [
    "## Runtime Data\n",
    "Data corresponding to the cpu/gpu runtimes for each environment"
   ]
  },
  {
   "cell_type": "code",
   "execution_count": null,
   "id": "0e01bc4e",
   "metadata": {},
   "outputs": [],
   "source": [
    "# This cell contains function to extract data from profiling folder\n",
    "\n",
    "models=[\"CNN\", \"DNN\", \"LSTM\", \"transformer\"]\n",
    "runtime_data_columns = ['Environment','trial','c_CNN_time','c_DNN_time','c_LSTM_time','c_T_time','g_CNN_time','g_DNN_time','g_LSTM_time','g_T_time']\n",
    "\n",
    "# Parse datafile to get runtime\n",
    "def get_time(fp):\n",
    "    with open(fp, \"r\") as f:\n",
    "        for line in f:\n",
    "            pass\n",
    "        # Last line\n",
    "        time = line.split(\":\")[1].replace(\"\\n\",\"\").replace(\" \", \"\")\n",
    "        return time\n",
    "\n",
    "# Given an environment name, return a 2d array\n",
    "# Each row has the trial number, and the cpu & gpu runtimes for all 4 models\n",
    "# So each row has 9 values\n",
    "def collect_runtime_data(env):\n",
    "    \n",
    "    cpu_out = []\n",
    "    gpu_out = []\n",
    "    out = []\n",
    "    \n",
    "    e_fp = \"profiling/\" + env\n",
    "    trials = os.listdir(e_fp)\n",
    "    \n",
    "    # For each trial for this env\n",
    "    for trial in trials:\n",
    "        \n",
    "        cpu_fp = e_fp + \"/\" + trial + \"/cpu\"\n",
    "        \n",
    "        # If we have cpu data\n",
    "        if os.path.isdir(cpu_fp):\n",
    "            \n",
    "            # Get runtimes for each model\n",
    "            for model in models:\n",
    "                data_fp = cpu_fp + \"/\" + model + \"/time.txt\"\n",
    "                if os.path.isfile(data_fp):\n",
    "                    cpu_out += [get_time(data_fp)]\n",
    "                else:\n",
    "                    # if this model did not have data\n",
    "                    cpu_out += [nan]\n",
    "        # If we don't have cpu data\n",
    "        else:\n",
    "            cpu_out = [nan]*4\n",
    "        \n",
    "        gpu_fp = e_fp + \"/\" + trial + \"/gpu\"\n",
    "        \n",
    "        # If we have gpu data\n",
    "        if os.path.isdir(gpu_fp):\n",
    "            \n",
    "            # Get runtimes for each model\n",
    "            for model in models:\n",
    "                data_fp = gpu_fp + \"/\" + model + \"/time.txt\"\n",
    "                if os.path.isfile(data_fp):\n",
    "                    gpu_out += [get_time(data_fp)]\n",
    "                else:\n",
    "                    # if this model did not have data\n",
    "                    gpu_out += [nan]\n",
    "        # If we don't have gpu data\n",
    "        else:\n",
    "            gpu_out = [nan]*4\n",
    "        \n",
    "#         print(\"Trial: \" + trial.split(\"_\")[1])\n",
    "#         print(cpu_out)\n",
    "#         print(gpu_out)\n",
    "#         print()\n",
    "        \n",
    "        out += [[env] + [int(trial.split(\"_\")[1])] + cpu_out + gpu_out]\n",
    "        cpu_out = []\n",
    "        gpu_out = []\n",
    "        \n",
    "    return pd.DataFrame(out, columns=runtime_data_columns)\n",
    "\n",
    "# V   Test line   V\n",
    "# collect_runtime_data(\"env7\")"
   ]
  },
  {
   "cell_type": "code",
   "execution_count": null,
   "id": "fa8ca6e7",
   "metadata": {
    "scrolled": true
   },
   "outputs": [],
   "source": [
    "# This cell collects data for all envs into one dataframe\n",
    "\n",
    "envs = [\"env2\",\"env3\",\"env4\",\"env5\",\"env6\",\"env7\",\"env8\",\"env9\",\n",
    "       \"datahub1\",\"datahub2\",\"datahub3\",\"datahub4\",\"datahub5\",\"datahub6\",\n",
    "       \"datahub7\",\"datahub8\",\"datahub9\",\"datahub10\"]\n",
    "\n",
    "runtime_data = collect_runtime_data(\"env1\")\n",
    "for env in envs:\n",
    "    runtime_data = pd.concat((runtime_data, collect_runtime_data(env)))\n",
    "runtime_data = runtime_data.reset_index(drop=True)\n",
    "\n",
    "# V   Save Data   V\n",
    "# runtime_data.to_csv(\"data/runtime_data.csv\")\n",
    "\n",
    "runtime_data"
   ]
  },
  {
   "cell_type": "markdown",
   "id": "12a6a8be",
   "metadata": {},
   "source": [
    "## Large Sample Data"
   ]
  },
  {
   "cell_type": "code",
   "execution_count": null,
   "id": "2399d819",
   "metadata": {},
   "outputs": [],
   "source": [
    "# Parse large_sample_time.txt to get a list of runtimes\n",
    "def get_large_times(fp):\n",
    "    out = []\n",
    "    with open(fp, \"r\") as f:\n",
    "        for line in f:\n",
    "            out += [line.split(\":\")[1].replace(\"\\n\", \"\").replace(\" \", \"\")]\n",
    "    return out"
   ]
  },
  {
   "cell_type": "code",
   "execution_count": null,
   "id": "ec2b6f0a",
   "metadata": {},
   "outputs": [],
   "source": []
  },
  {
   "cell_type": "code",
   "execution_count": null,
   "id": "49440605",
   "metadata": {},
   "outputs": [],
   "source": []
  },
  {
   "cell_type": "code",
   "execution_count": null,
   "id": "ba5b5262",
   "metadata": {},
   "outputs": [],
   "source": []
  }
 ],
 "metadata": {
  "kernelspec": {
   "display_name": "Python 3 (ipykernel)",
   "language": "python",
   "name": "python3"
  },
  "language_info": {
   "codemirror_mode": {
    "name": "ipython",
    "version": 3
   },
   "file_extension": ".py",
   "mimetype": "text/x-python",
   "name": "python",
   "nbconvert_exporter": "python",
   "pygments_lexer": "ipython3",
   "version": "3.11.5"
  }
 },
 "nbformat": 4,
 "nbformat_minor": 5
}
