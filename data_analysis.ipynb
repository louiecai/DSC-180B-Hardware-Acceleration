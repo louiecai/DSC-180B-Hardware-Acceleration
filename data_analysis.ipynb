{
 "cells": [
  {
   "cell_type": "code",
   "execution_count": 2,
   "id": "38fdb9fe",
   "metadata": {},
   "outputs": [],
   "source": [
    "import numpy as np\n",
    "import pandas as pd\n",
    "import re\n",
    "import matplotlib.pyplot as plt\n",
    "import seaborn as sns"
   ]
  },
  {
   "cell_type": "code",
   "execution_count": 3,
   "id": "19d2ebd7",
   "metadata": {},
   "outputs": [
    {
     "data": {
      "text/html": [
       "<div>\n",
       "<style scoped>\n",
       "    .dataframe tbody tr th:only-of-type {\n",
       "        vertical-align: middle;\n",
       "    }\n",
       "\n",
       "    .dataframe tbody tr th {\n",
       "        vertical-align: top;\n",
       "    }\n",
       "\n",
       "    .dataframe thead th {\n",
       "        text-align: right;\n",
       "    }\n",
       "</style>\n",
       "<table border=\"1\" class=\"dataframe\">\n",
       "  <thead>\n",
       "    <tr style=\"text-align: right;\">\n",
       "      <th></th>\n",
       "      <th>Instance</th>\n",
       "      <th>vcpu</th>\n",
       "      <th>cpu_mem (GiB)</th>\n",
       "      <th>cpu_type</th>\n",
       "      <th>gpu</th>\n",
       "      <th>gpu_mem (GiB)</th>\n",
       "      <th>gpu_type</th>\n",
       "    </tr>\n",
       "    <tr>\n",
       "      <th>Environment</th>\n",
       "      <th></th>\n",
       "      <th></th>\n",
       "      <th></th>\n",
       "      <th></th>\n",
       "      <th></th>\n",
       "      <th></th>\n",
       "      <th></th>\n",
       "    </tr>\n",
       "  </thead>\n",
       "  <tbody>\n",
       "    <tr>\n",
       "      <th>env1</th>\n",
       "      <td>c7a.medium</td>\n",
       "      <td>1</td>\n",
       "      <td>2.0</td>\n",
       "      <td>AMD EPYC Gen4</td>\n",
       "      <td>0</td>\n",
       "      <td>NaN</td>\n",
       "      <td>NaN</td>\n",
       "    </tr>\n",
       "    <tr>\n",
       "      <th>env2</th>\n",
       "      <td>c7a.large</td>\n",
       "      <td>2</td>\n",
       "      <td>4.0</td>\n",
       "      <td>AMD EPYC Gen4</td>\n",
       "      <td>0</td>\n",
       "      <td>NaN</td>\n",
       "      <td>NaN</td>\n",
       "    </tr>\n",
       "    <tr>\n",
       "      <th>env3</th>\n",
       "      <td>c7a.xlarge</td>\n",
       "      <td>4</td>\n",
       "      <td>8.0</td>\n",
       "      <td>AMD EPYC Gen4</td>\n",
       "      <td>0</td>\n",
       "      <td>NaN</td>\n",
       "      <td>NaN</td>\n",
       "    </tr>\n",
       "    <tr>\n",
       "      <th>env4</th>\n",
       "      <td>c7a.2xlarge</td>\n",
       "      <td>8</td>\n",
       "      <td>16.0</td>\n",
       "      <td>AMD EPYC Gen4</td>\n",
       "      <td>0</td>\n",
       "      <td>NaN</td>\n",
       "      <td>NaN</td>\n",
       "    </tr>\n",
       "    <tr>\n",
       "      <th>env5</th>\n",
       "      <td>c6i.xlarge</td>\n",
       "      <td>4</td>\n",
       "      <td>8.0</td>\n",
       "      <td>Intel Xeon 8375C (Ice Lake)</td>\n",
       "      <td>0</td>\n",
       "      <td>NaN</td>\n",
       "      <td>NaN</td>\n",
       "    </tr>\n",
       "  </tbody>\n",
       "</table>\n",
       "</div>"
      ],
      "text/plain": [
       "                Instance  vcpu  cpu_mem (GiB)                     cpu_type  \\\n",
       "Environment                                                                  \n",
       "env1          c7a.medium     1            2.0                AMD EPYC Gen4   \n",
       "env2           c7a.large     2            4.0                AMD EPYC Gen4   \n",
       "env3          c7a.xlarge     4            8.0                AMD EPYC Gen4   \n",
       "env4         c7a.2xlarge     8           16.0                AMD EPYC Gen4   \n",
       "env5          c6i.xlarge     4            8.0  Intel Xeon 8375C (Ice Lake)   \n",
       "\n",
       "             gpu  gpu_mem (GiB) gpu_type  \n",
       "Environment                               \n",
       "env1           0            NaN      NaN  \n",
       "env2           0            NaN      NaN  \n",
       "env3           0            NaN      NaN  \n",
       "env4           0            NaN      NaN  \n",
       "env5           0            NaN      NaN  "
      ]
     },
     "execution_count": 3,
     "metadata": {},
     "output_type": "execute_result"
    }
   ],
   "source": [
    "# Load data about environment specs\n",
    "env_data = pd.read_csv(\"data/env_data.csv\", index_col=0).set_index(\"Environment\")\n",
    "env_data.head()"
   ]
  },
  {
   "cell_type": "markdown",
   "id": "43854fb8",
   "metadata": {},
   "source": [
    "## Data Cleaning (Runtime Data)\n",
    "We will convert everything into milliseconds"
   ]
  },
  {
   "cell_type": "code",
   "execution_count": 4,
   "id": "baa55bd0",
   "metadata": {},
   "outputs": [
    {
     "data": {
      "text/html": [
       "<div>\n",
       "<style scoped>\n",
       "    .dataframe tbody tr th:only-of-type {\n",
       "        vertical-align: middle;\n",
       "    }\n",
       "\n",
       "    .dataframe tbody tr th {\n",
       "        vertical-align: top;\n",
       "    }\n",
       "\n",
       "    .dataframe thead th {\n",
       "        text-align: right;\n",
       "    }\n",
       "</style>\n",
       "<table border=\"1\" class=\"dataframe\">\n",
       "  <thead>\n",
       "    <tr style=\"text-align: right;\">\n",
       "      <th></th>\n",
       "      <th>Environment</th>\n",
       "      <th>Trial</th>\n",
       "      <th>c_CNN_time</th>\n",
       "      <th>c_DNN_time</th>\n",
       "      <th>c_LSTM_time</th>\n",
       "      <th>c_transformer_time</th>\n",
       "      <th>g_CNN_time</th>\n",
       "      <th>g_DNN_time</th>\n",
       "      <th>g_transformer_time</th>\n",
       "      <th>g_LSTM_time</th>\n",
       "    </tr>\n",
       "  </thead>\n",
       "  <tbody>\n",
       "    <tr>\n",
       "      <th>37</th>\n",
       "      <td>env8</td>\n",
       "      <td>2</td>\n",
       "      <td>18.588ms</td>\n",
       "      <td>99.798ms</td>\n",
       "      <td>166.293ms</td>\n",
       "      <td>350.000ms</td>\n",
       "      <td>NaN</td>\n",
       "      <td>NaN</td>\n",
       "      <td>NaN</td>\n",
       "      <td>NaN</td>\n",
       "    </tr>\n",
       "    <tr>\n",
       "      <th>38</th>\n",
       "      <td>env8</td>\n",
       "      <td>3</td>\n",
       "      <td>17.479ms</td>\n",
       "      <td>97.773ms</td>\n",
       "      <td>168.605ms</td>\n",
       "      <td>331.944ms</td>\n",
       "      <td>NaN</td>\n",
       "      <td>NaN</td>\n",
       "      <td>NaN</td>\n",
       "      <td>NaN</td>\n",
       "    </tr>\n",
       "    <tr>\n",
       "      <th>39</th>\n",
       "      <td>env9</td>\n",
       "      <td>1</td>\n",
       "      <td>15.990ms</td>\n",
       "      <td>52.985ms</td>\n",
       "      <td>126.101ms</td>\n",
       "      <td>206.221ms</td>\n",
       "      <td>NaN</td>\n",
       "      <td>NaN</td>\n",
       "      <td>NaN</td>\n",
       "      <td>NaN</td>\n",
       "    </tr>\n",
       "    <tr>\n",
       "      <th>40</th>\n",
       "      <td>env9</td>\n",
       "      <td>2</td>\n",
       "      <td>16.263ms</td>\n",
       "      <td>53.330ms</td>\n",
       "      <td>127.396ms</td>\n",
       "      <td>201.290ms</td>\n",
       "      <td>NaN</td>\n",
       "      <td>NaN</td>\n",
       "      <td>NaN</td>\n",
       "      <td>NaN</td>\n",
       "    </tr>\n",
       "    <tr>\n",
       "      <th>41</th>\n",
       "      <td>env9</td>\n",
       "      <td>3</td>\n",
       "      <td>15.607ms</td>\n",
       "      <td>55.033ms</td>\n",
       "      <td>128.863ms</td>\n",
       "      <td>187.897ms</td>\n",
       "      <td>NaN</td>\n",
       "      <td>NaN</td>\n",
       "      <td>NaN</td>\n",
       "      <td>NaN</td>\n",
       "    </tr>\n",
       "  </tbody>\n",
       "</table>\n",
       "</div>"
      ],
      "text/plain": [
       "   Environment  Trial c_CNN_time c_DNN_time c_LSTM_time c_transformer_time  \\\n",
       "37        env8      2   18.588ms   99.798ms   166.293ms          350.000ms   \n",
       "38        env8      3   17.479ms   97.773ms   168.605ms          331.944ms   \n",
       "39        env9      1   15.990ms   52.985ms   126.101ms          206.221ms   \n",
       "40        env9      2   16.263ms   53.330ms   127.396ms          201.290ms   \n",
       "41        env9      3   15.607ms   55.033ms   128.863ms          187.897ms   \n",
       "\n",
       "   g_CNN_time g_DNN_time g_transformer_time  g_LSTM_time  \n",
       "37        NaN        NaN                NaN          NaN  \n",
       "38        NaN        NaN                NaN          NaN  \n",
       "39        NaN        NaN                NaN          NaN  \n",
       "40        NaN        NaN                NaN          NaN  \n",
       "41        NaN        NaN                NaN          NaN  "
      ]
     },
     "execution_count": 4,
     "metadata": {},
     "output_type": "execute_result"
    }
   ],
   "source": [
    "\"\"\" runtime dataset\n",
    "Each row is an environment trial \n",
    "    i.e., (env1 trial 1/2/3, env2 trial 1/2/3, ... , datahub trial1, ...)\n",
    "Each column thereafter are for runtimes\n",
    "    Example: c_CNN_time, how long this environment trial took to process the CNN exectuion on cpu\n",
    "    Example: g_LSTM_time, how long this env trial took to process the LSTM execution on gpu\n",
    "\"\"\"\n",
    "\n",
    "runtime_data = pd.read_csv(\"data/runtime_data.csv\", index_col=0)\n",
    "runtime_data.tail()"
   ]
  },
  {
   "cell_type": "code",
   "execution_count": 5,
   "id": "fd875b59",
   "metadata": {},
   "outputs": [
    {
     "data": {
      "text/html": [
       "<div>\n",
       "<style scoped>\n",
       "    .dataframe tbody tr th:only-of-type {\n",
       "        vertical-align: middle;\n",
       "    }\n",
       "\n",
       "    .dataframe tbody tr th {\n",
       "        vertical-align: top;\n",
       "    }\n",
       "\n",
       "    .dataframe thead th {\n",
       "        text-align: right;\n",
       "    }\n",
       "</style>\n",
       "<table border=\"1\" class=\"dataframe\">\n",
       "  <thead>\n",
       "    <tr style=\"text-align: right;\">\n",
       "      <th></th>\n",
       "      <th>Environment</th>\n",
       "      <th>Trial</th>\n",
       "      <th>c_CNN_time</th>\n",
       "      <th>c_DNN_time</th>\n",
       "      <th>c_LSTM_time</th>\n",
       "      <th>c_transformer_time</th>\n",
       "      <th>g_CNN_time</th>\n",
       "      <th>g_DNN_time</th>\n",
       "      <th>g_transformer_time</th>\n",
       "      <th>g_LSTM_time</th>\n",
       "    </tr>\n",
       "  </thead>\n",
       "  <tbody>\n",
       "    <tr>\n",
       "      <th>0</th>\n",
       "      <td>datahub1</td>\n",
       "      <td>1</td>\n",
       "      <td>10059.000</td>\n",
       "      <td>13676.000</td>\n",
       "      <td>87395.000</td>\n",
       "      <td>68193.000</td>\n",
       "      <td>[1451.0, 1.159]</td>\n",
       "      <td>[22.576, 2.88]</td>\n",
       "      <td>[81.142, 9.617]</td>\n",
       "      <td>NaN</td>\n",
       "    </tr>\n",
       "    <tr>\n",
       "      <th>1</th>\n",
       "      <td>datahub10</td>\n",
       "      <td>1</td>\n",
       "      <td>22.238</td>\n",
       "      <td>50.162</td>\n",
       "      <td>274.854</td>\n",
       "      <td>261.713</td>\n",
       "      <td>[1309.0, 0.93]</td>\n",
       "      <td>[11.884, 2.466]</td>\n",
       "      <td>[32.986, 6.056]</td>\n",
       "      <td>NaN</td>\n",
       "    </tr>\n",
       "    <tr>\n",
       "      <th>2</th>\n",
       "      <td>datahub2</td>\n",
       "      <td>1</td>\n",
       "      <td>4267.000</td>\n",
       "      <td>4488.000</td>\n",
       "      <td>62788.000</td>\n",
       "      <td>15780.000</td>\n",
       "      <td>[1384.0, 1.154]</td>\n",
       "      <td>[17.723, 2.864]</td>\n",
       "      <td>[92.822, 9.504]</td>\n",
       "      <td>NaN</td>\n",
       "    </tr>\n",
       "    <tr>\n",
       "      <th>3</th>\n",
       "      <td>datahub3</td>\n",
       "      <td>1</td>\n",
       "      <td>675.796</td>\n",
       "      <td>1191.000</td>\n",
       "      <td>7188.000</td>\n",
       "      <td>4690.000</td>\n",
       "      <td>[1573.0, 1.138]</td>\n",
       "      <td>[18.172, 2.858]</td>\n",
       "      <td>[60.954, 9.515]</td>\n",
       "      <td>NaN</td>\n",
       "    </tr>\n",
       "    <tr>\n",
       "      <th>4</th>\n",
       "      <td>datahub4</td>\n",
       "      <td>1</td>\n",
       "      <td>26.471</td>\n",
       "      <td>235.421</td>\n",
       "      <td>789.155</td>\n",
       "      <td>1127.000</td>\n",
       "      <td>[1549.0, 1.174]</td>\n",
       "      <td>[20.413, 2.864]</td>\n",
       "      <td>[59.692, 9.808]</td>\n",
       "      <td>NaN</td>\n",
       "    </tr>\n",
       "  </tbody>\n",
       "</table>\n",
       "</div>"
      ],
      "text/plain": [
       "  Environment  Trial  c_CNN_time  c_DNN_time  c_LSTM_time  c_transformer_time  \\\n",
       "0    datahub1      1   10059.000   13676.000    87395.000           68193.000   \n",
       "1   datahub10      1      22.238      50.162      274.854             261.713   \n",
       "2    datahub2      1    4267.000    4488.000    62788.000           15780.000   \n",
       "3    datahub3      1     675.796    1191.000     7188.000            4690.000   \n",
       "4    datahub4      1      26.471     235.421      789.155            1127.000   \n",
       "\n",
       "        g_CNN_time       g_DNN_time g_transformer_time  g_LSTM_time  \n",
       "0  [1451.0, 1.159]   [22.576, 2.88]    [81.142, 9.617]          NaN  \n",
       "1   [1309.0, 0.93]  [11.884, 2.466]    [32.986, 6.056]          NaN  \n",
       "2  [1384.0, 1.154]  [17.723, 2.864]    [92.822, 9.504]          NaN  \n",
       "3  [1573.0, 1.138]  [18.172, 2.858]    [60.954, 9.515]          NaN  \n",
       "4  [1549.0, 1.174]  [20.413, 2.864]    [59.692, 9.808]          NaN  "
      ]
     },
     "execution_count": 5,
     "metadata": {},
     "output_type": "execute_result"
    }
   ],
   "source": [
    "\"\"\" Clean up the data (also convert to milliseconds) \"\"\"\n",
    "\n",
    "# Convert a messy string format of runtime to a float or np.nan\n",
    "def standardize_time(time):\n",
    "    if (type(time)==str and \"[\" not in time):\n",
    "        time = time.strip()\n",
    "        \n",
    "        t = re.split(r'(\\d+\\.\\d+)', time)\n",
    "        t = [_ for _ in t if _ != '']\n",
    "        \n",
    "        if (t[1] == \"ms\"):\n",
    "            return float(t[0])\n",
    "        elif (t[1] == \"s\"):\n",
    "            return float(t[0])*1000\n",
    "        else:\n",
    "            return np.nan\n",
    "    elif (type(time)==str and \"[\" in time):\n",
    "        time = time.strip('][').split(', ')\n",
    "        time = [_.strip(\"'\") for _ in time]\n",
    "        out = []\n",
    "        for i in range(len(time)):\n",
    "            ti = time[i]\n",
    "            t = re.split(r'(\\d+\\.\\d+)', ti)\n",
    "            t = [_ for _ in t if _ != '']\n",
    "\n",
    "            if (t[1] == \"ms\"):\n",
    "                out += [float(t[0])]\n",
    "            elif (t[1] == \"s\"):\n",
    "                out += [float(t[0])*1000]\n",
    "            elif (t[1] == \"us\"):\n",
    "                out += [float(t[0])/1000]\n",
    "            else:\n",
    "                out += [np.nan]\n",
    "        return np.array(out)\n",
    "    else:\n",
    "        return time\n",
    "    \n",
    "for col in runtime_data.columns[2:]:\n",
    "    runtime_data[col] = runtime_data[col].apply(standardize_time)\n",
    "\n",
    "runtime_data.head()"
   ]
  },
  {
   "cell_type": "code",
   "execution_count": 6,
   "id": "9fe8a75e",
   "metadata": {},
   "outputs": [
    {
     "data": {
      "text/html": [
       "<div>\n",
       "<style scoped>\n",
       "    .dataframe tbody tr th:only-of-type {\n",
       "        vertical-align: middle;\n",
       "    }\n",
       "\n",
       "    .dataframe tbody tr th {\n",
       "        vertical-align: top;\n",
       "    }\n",
       "\n",
       "    .dataframe thead th {\n",
       "        text-align: right;\n",
       "    }\n",
       "</style>\n",
       "<table border=\"1\" class=\"dataframe\">\n",
       "  <thead>\n",
       "    <tr style=\"text-align: right;\">\n",
       "      <th></th>\n",
       "      <th>Environment</th>\n",
       "      <th>Trial</th>\n",
       "      <th>c_CNN_time</th>\n",
       "      <th>c_DNN_time</th>\n",
       "      <th>c_LSTM_time</th>\n",
       "      <th>c_transformer_time</th>\n",
       "      <th>g_CNN_time</th>\n",
       "      <th>g_DNN_time</th>\n",
       "      <th>g_transformer_time</th>\n",
       "      <th>g_LSTM_time</th>\n",
       "      <th>Instance</th>\n",
       "      <th>vcpu</th>\n",
       "      <th>cpu_mem (GiB)</th>\n",
       "      <th>cpu_type</th>\n",
       "      <th>gpu</th>\n",
       "      <th>gpu_mem (GiB)</th>\n",
       "      <th>gpu_type</th>\n",
       "    </tr>\n",
       "  </thead>\n",
       "  <tbody>\n",
       "    <tr>\n",
       "      <th>0</th>\n",
       "      <td>datahub1</td>\n",
       "      <td>1</td>\n",
       "      <td>10059.000</td>\n",
       "      <td>13676.000</td>\n",
       "      <td>87395.000</td>\n",
       "      <td>68193.000</td>\n",
       "      <td>[1451.0, 1.159]</td>\n",
       "      <td>[22.576, 2.88]</td>\n",
       "      <td>[81.142, 9.617]</td>\n",
       "      <td>NaN</td>\n",
       "      <td>NaN</td>\n",
       "      <td>1</td>\n",
       "      <td>32.0</td>\n",
       "      <td>Intel(R) Xeon(R) Gold 5218</td>\n",
       "      <td>1</td>\n",
       "      <td>NaN</td>\n",
       "      <td>2080ti</td>\n",
       "    </tr>\n",
       "    <tr>\n",
       "      <th>1</th>\n",
       "      <td>datahub10</td>\n",
       "      <td>1</td>\n",
       "      <td>22.238</td>\n",
       "      <td>50.162</td>\n",
       "      <td>274.854</td>\n",
       "      <td>261.713</td>\n",
       "      <td>[1309.0, 0.93]</td>\n",
       "      <td>[11.884, 2.466]</td>\n",
       "      <td>[32.986, 6.056]</td>\n",
       "      <td>NaN</td>\n",
       "      <td>NaN</td>\n",
       "      <td>12</td>\n",
       "      <td>32.0</td>\n",
       "      <td>AMD EPYC 7543P</td>\n",
       "      <td>1</td>\n",
       "      <td>NaN</td>\n",
       "      <td>a5000</td>\n",
       "    </tr>\n",
       "    <tr>\n",
       "      <th>2</th>\n",
       "      <td>datahub2</td>\n",
       "      <td>1</td>\n",
       "      <td>4267.000</td>\n",
       "      <td>4488.000</td>\n",
       "      <td>62788.000</td>\n",
       "      <td>15780.000</td>\n",
       "      <td>[1384.0, 1.154]</td>\n",
       "      <td>[17.723, 2.864]</td>\n",
       "      <td>[92.822, 9.504]</td>\n",
       "      <td>NaN</td>\n",
       "      <td>NaN</td>\n",
       "      <td>2</td>\n",
       "      <td>32.0</td>\n",
       "      <td>Intel(R) Xeon(R) Gold 5218</td>\n",
       "      <td>1</td>\n",
       "      <td>NaN</td>\n",
       "      <td>2080ti</td>\n",
       "    </tr>\n",
       "    <tr>\n",
       "      <th>3</th>\n",
       "      <td>datahub3</td>\n",
       "      <td>1</td>\n",
       "      <td>675.796</td>\n",
       "      <td>1191.000</td>\n",
       "      <td>7188.000</td>\n",
       "      <td>4690.000</td>\n",
       "      <td>[1573.0, 1.138]</td>\n",
       "      <td>[18.172, 2.858]</td>\n",
       "      <td>[60.954, 9.515]</td>\n",
       "      <td>NaN</td>\n",
       "      <td>NaN</td>\n",
       "      <td>4</td>\n",
       "      <td>32.0</td>\n",
       "      <td>Intel(R) Xeon(R) Gold 5218</td>\n",
       "      <td>1</td>\n",
       "      <td>NaN</td>\n",
       "      <td>2080ti</td>\n",
       "    </tr>\n",
       "    <tr>\n",
       "      <th>4</th>\n",
       "      <td>datahub4</td>\n",
       "      <td>1</td>\n",
       "      <td>26.471</td>\n",
       "      <td>235.421</td>\n",
       "      <td>789.155</td>\n",
       "      <td>1127.000</td>\n",
       "      <td>[1549.0, 1.174]</td>\n",
       "      <td>[20.413, 2.864]</td>\n",
       "      <td>[59.692, 9.808]</td>\n",
       "      <td>NaN</td>\n",
       "      <td>NaN</td>\n",
       "      <td>8</td>\n",
       "      <td>32.0</td>\n",
       "      <td>Intel(R) Xeon(R) Gold 5218</td>\n",
       "      <td>1</td>\n",
       "      <td>NaN</td>\n",
       "      <td>2080ti</td>\n",
       "    </tr>\n",
       "  </tbody>\n",
       "</table>\n",
       "</div>"
      ],
      "text/plain": [
       "  Environment  Trial  c_CNN_time  c_DNN_time  c_LSTM_time  c_transformer_time  \\\n",
       "0    datahub1      1   10059.000   13676.000    87395.000           68193.000   \n",
       "1   datahub10      1      22.238      50.162      274.854             261.713   \n",
       "2    datahub2      1    4267.000    4488.000    62788.000           15780.000   \n",
       "3    datahub3      1     675.796    1191.000     7188.000            4690.000   \n",
       "4    datahub4      1      26.471     235.421      789.155            1127.000   \n",
       "\n",
       "        g_CNN_time       g_DNN_time g_transformer_time  g_LSTM_time Instance  \\\n",
       "0  [1451.0, 1.159]   [22.576, 2.88]    [81.142, 9.617]          NaN      NaN   \n",
       "1   [1309.0, 0.93]  [11.884, 2.466]    [32.986, 6.056]          NaN      NaN   \n",
       "2  [1384.0, 1.154]  [17.723, 2.864]    [92.822, 9.504]          NaN      NaN   \n",
       "3  [1573.0, 1.138]  [18.172, 2.858]    [60.954, 9.515]          NaN      NaN   \n",
       "4  [1549.0, 1.174]  [20.413, 2.864]    [59.692, 9.808]          NaN      NaN   \n",
       "\n",
       "   vcpu  cpu_mem (GiB)                    cpu_type  gpu  gpu_mem (GiB)  \\\n",
       "0     1           32.0  Intel(R) Xeon(R) Gold 5218    1            NaN   \n",
       "1    12           32.0              AMD EPYC 7543P    1            NaN   \n",
       "2     2           32.0  Intel(R) Xeon(R) Gold 5218    1            NaN   \n",
       "3     4           32.0  Intel(R) Xeon(R) Gold 5218    1            NaN   \n",
       "4     8           32.0  Intel(R) Xeon(R) Gold 5218    1            NaN   \n",
       "\n",
       "  gpu_type  \n",
       "0   2080ti  \n",
       "1    a5000  \n",
       "2   2080ti  \n",
       "3   2080ti  \n",
       "4   2080ti  "
      ]
     },
     "execution_count": 6,
     "metadata": {},
     "output_type": "execute_result"
    }
   ],
   "source": [
    "# merge the environment data with the runtime data\n",
    "merged_data = runtime_data.merge(env_data, left_on=\"Environment\", right_index=True, how=\"left\")\n",
    "merged_data.head()"
   ]
  },
  {
   "cell_type": "markdown",
   "id": "8b67aee9",
   "metadata": {},
   "source": [
    "## Data Analysis (Runtime Data)"
   ]
  },
  {
   "cell_type": "markdown",
   "id": "d1a50bb4",
   "metadata": {},
   "source": [
    "#### First, Let's See what happened over each trial"
   ]
  },
  {
   "cell_type": "code",
   "execution_count": 7,
   "id": "9ed0ae9c",
   "metadata": {},
   "outputs": [
    {
     "name": "stderr",
     "output_type": "stream",
     "text": [
      "/tmp/ipykernel_1489012/918222638.py:2: FutureWarning: The default value of numeric_only in DataFrameGroupBy.std is deprecated. In a future version, numeric_only will default to False. Either specify numeric_only or select only columns which should be valid for the function.\n",
      "  runtime_data[runtime_data[\"Environment\"].str.contains(\"env\")].groupby(\"Environment\").std().tail(10)\n"
     ]
    },
    {
     "data": {
      "text/html": [
       "<div>\n",
       "<style scoped>\n",
       "    .dataframe tbody tr th:only-of-type {\n",
       "        vertical-align: middle;\n",
       "    }\n",
       "\n",
       "    .dataframe tbody tr th {\n",
       "        vertical-align: top;\n",
       "    }\n",
       "\n",
       "    .dataframe thead th {\n",
       "        text-align: right;\n",
       "    }\n",
       "</style>\n",
       "<table border=\"1\" class=\"dataframe\">\n",
       "  <thead>\n",
       "    <tr style=\"text-align: right;\">\n",
       "      <th></th>\n",
       "      <th>Trial</th>\n",
       "      <th>c_CNN_time</th>\n",
       "      <th>c_DNN_time</th>\n",
       "      <th>c_LSTM_time</th>\n",
       "      <th>c_transformer_time</th>\n",
       "      <th>g_LSTM_time</th>\n",
       "    </tr>\n",
       "    <tr>\n",
       "      <th>Environment</th>\n",
       "      <th></th>\n",
       "      <th></th>\n",
       "      <th></th>\n",
       "      <th></th>\n",
       "      <th></th>\n",
       "      <th></th>\n",
       "    </tr>\n",
       "  </thead>\n",
       "  <tbody>\n",
       "    <tr>\n",
       "      <th>env1</th>\n",
       "      <td>1.0</td>\n",
       "      <td>33.502204</td>\n",
       "      <td>0.626773</td>\n",
       "      <td>43.657995</td>\n",
       "      <td>8.652378</td>\n",
       "      <td>NaN</td>\n",
       "    </tr>\n",
       "    <tr>\n",
       "      <th>env10</th>\n",
       "      <td>1.0</td>\n",
       "      <td>0.512892</td>\n",
       "      <td>0.267948</td>\n",
       "      <td>1.634813</td>\n",
       "      <td>1.726022</td>\n",
       "      <td>NaN</td>\n",
       "    </tr>\n",
       "    <tr>\n",
       "      <th>env2</th>\n",
       "      <td>1.0</td>\n",
       "      <td>5.789247</td>\n",
       "      <td>1.807132</td>\n",
       "      <td>1.378854</td>\n",
       "      <td>2.638770</td>\n",
       "      <td>NaN</td>\n",
       "    </tr>\n",
       "    <tr>\n",
       "      <th>env3</th>\n",
       "      <td>1.0</td>\n",
       "      <td>0.199592</td>\n",
       "      <td>0.927694</td>\n",
       "      <td>0.805093</td>\n",
       "      <td>0.364291</td>\n",
       "      <td>NaN</td>\n",
       "    </tr>\n",
       "    <tr>\n",
       "      <th>env4</th>\n",
       "      <td>1.0</td>\n",
       "      <td>0.100553</td>\n",
       "      <td>0.144128</td>\n",
       "      <td>2.164567</td>\n",
       "      <td>0.592841</td>\n",
       "      <td>NaN</td>\n",
       "    </tr>\n",
       "    <tr>\n",
       "      <th>env5</th>\n",
       "      <td>1.0</td>\n",
       "      <td>0.162004</td>\n",
       "      <td>19.102551</td>\n",
       "      <td>46.117691</td>\n",
       "      <td>14.166294</td>\n",
       "      <td>NaN</td>\n",
       "    </tr>\n",
       "    <tr>\n",
       "      <th>env6</th>\n",
       "      <td>1.0</td>\n",
       "      <td>0.232080</td>\n",
       "      <td>0.949089</td>\n",
       "      <td>1.735024</td>\n",
       "      <td>9.689483</td>\n",
       "      <td>NaN</td>\n",
       "    </tr>\n",
       "    <tr>\n",
       "      <th>env7</th>\n",
       "      <td>1.0</td>\n",
       "      <td>0.089538</td>\n",
       "      <td>0.119302</td>\n",
       "      <td>0.799706</td>\n",
       "      <td>9.563330</td>\n",
       "      <td>NaN</td>\n",
       "    </tr>\n",
       "    <tr>\n",
       "      <th>env8</th>\n",
       "      <td>1.0</td>\n",
       "      <td>0.555749</td>\n",
       "      <td>1.720111</td>\n",
       "      <td>1.410556</td>\n",
       "      <td>10.848821</td>\n",
       "      <td>NaN</td>\n",
       "    </tr>\n",
       "    <tr>\n",
       "      <th>env9</th>\n",
       "      <td>1.0</td>\n",
       "      <td>0.329534</td>\n",
       "      <td>1.096475</td>\n",
       "      <td>1.381892</td>\n",
       "      <td>9.482055</td>\n",
       "      <td>NaN</td>\n",
       "    </tr>\n",
       "  </tbody>\n",
       "</table>\n",
       "</div>"
      ],
      "text/plain": [
       "             Trial  c_CNN_time  c_DNN_time  c_LSTM_time  c_transformer_time  \\\n",
       "Environment                                                                   \n",
       "env1           1.0   33.502204    0.626773    43.657995            8.652378   \n",
       "env10          1.0    0.512892    0.267948     1.634813            1.726022   \n",
       "env2           1.0    5.789247    1.807132     1.378854            2.638770   \n",
       "env3           1.0    0.199592    0.927694     0.805093            0.364291   \n",
       "env4           1.0    0.100553    0.144128     2.164567            0.592841   \n",
       "env5           1.0    0.162004   19.102551    46.117691           14.166294   \n",
       "env6           1.0    0.232080    0.949089     1.735024            9.689483   \n",
       "env7           1.0    0.089538    0.119302     0.799706            9.563330   \n",
       "env8           1.0    0.555749    1.720111     1.410556           10.848821   \n",
       "env9           1.0    0.329534    1.096475     1.381892            9.482055   \n",
       "\n",
       "             g_LSTM_time  \n",
       "Environment               \n",
       "env1                 NaN  \n",
       "env10                NaN  \n",
       "env2                 NaN  \n",
       "env3                 NaN  \n",
       "env4                 NaN  \n",
       "env5                 NaN  \n",
       "env6                 NaN  \n",
       "env7                 NaN  \n",
       "env8                 NaN  \n",
       "env9                 NaN  "
      ]
     },
     "execution_count": 7,
     "metadata": {},
     "output_type": "execute_result"
    }
   ],
   "source": [
    "\"\"\" For each environment, get the standard deviation between execution times \"\"\"\n",
    "runtime_data[runtime_data[\"Environment\"].str.contains(\"env\")].groupby(\"Environment\").std().tail(10)"
   ]
  },
  {
   "cell_type": "markdown",
   "id": "03c4f88b",
   "metadata": {},
   "source": [
    "It seems that a lot of the environment with multiple trials saw a big difference between trials. However, we are in milliseconds, so a standard deviation of 33 (which seems huge), is only a result of 71 ms vs 13 ms. Again, this seems big, but we are in milliseconds, where this difference is actually miniscule."
   ]
  },
  {
   "cell_type": "markdown",
   "id": "a7cd5247",
   "metadata": {},
   "source": [
    "#### Let's take the average over all trials"
   ]
  },
  {
   "cell_type": "code",
   "execution_count": 8,
   "id": "023334f3",
   "metadata": {},
   "outputs": [
    {
     "name": "stderr",
     "output_type": "stream",
     "text": [
      "/tmp/ipykernel_1489012/131908787.py:1: FutureWarning: The default value of numeric_only in DataFrameGroupBy.mean is deprecated. In a future version, numeric_only will default to False. Either specify numeric_only or select only columns which should be valid for the function.\n",
      "  mean_trials = runtime_data.groupby(\"Environment\").mean().drop(columns=[\"Trial\"])\n"
     ]
    },
    {
     "data": {
      "text/html": [
       "<div>\n",
       "<style scoped>\n",
       "    .dataframe tbody tr th:only-of-type {\n",
       "        vertical-align: middle;\n",
       "    }\n",
       "\n",
       "    .dataframe tbody tr th {\n",
       "        vertical-align: top;\n",
       "    }\n",
       "\n",
       "    .dataframe thead th {\n",
       "        text-align: right;\n",
       "    }\n",
       "</style>\n",
       "<table border=\"1\" class=\"dataframe\">\n",
       "  <thead>\n",
       "    <tr style=\"text-align: right;\">\n",
       "      <th></th>\n",
       "      <th>c_CNN_time</th>\n",
       "      <th>c_DNN_time</th>\n",
       "      <th>c_LSTM_time</th>\n",
       "      <th>c_transformer_time</th>\n",
       "      <th>g_LSTM_time</th>\n",
       "    </tr>\n",
       "    <tr>\n",
       "      <th>Environment</th>\n",
       "      <th></th>\n",
       "      <th></th>\n",
       "      <th></th>\n",
       "      <th></th>\n",
       "      <th></th>\n",
       "    </tr>\n",
       "  </thead>\n",
       "  <tbody>\n",
       "    <tr>\n",
       "      <th>datahub1</th>\n",
       "      <td>10059.000000</td>\n",
       "      <td>13676.000000</td>\n",
       "      <td>8.739500e+04</td>\n",
       "      <td>68193.000000</td>\n",
       "      <td>NaN</td>\n",
       "    </tr>\n",
       "    <tr>\n",
       "      <th>datahub10</th>\n",
       "      <td>22.238000</td>\n",
       "      <td>50.162000</td>\n",
       "      <td>2.748540e+02</td>\n",
       "      <td>261.713000</td>\n",
       "      <td>NaN</td>\n",
       "    </tr>\n",
       "    <tr>\n",
       "      <th>datahub2</th>\n",
       "      <td>4267.000000</td>\n",
       "      <td>4488.000000</td>\n",
       "      <td>6.278800e+04</td>\n",
       "      <td>15780.000000</td>\n",
       "      <td>NaN</td>\n",
       "    </tr>\n",
       "    <tr>\n",
       "      <th>datahub3</th>\n",
       "      <td>675.796000</td>\n",
       "      <td>1191.000000</td>\n",
       "      <td>7.188000e+03</td>\n",
       "      <td>4690.000000</td>\n",
       "      <td>NaN</td>\n",
       "    </tr>\n",
       "    <tr>\n",
       "      <th>datahub4</th>\n",
       "      <td>26.471000</td>\n",
       "      <td>235.421000</td>\n",
       "      <td>7.891550e+02</td>\n",
       "      <td>1127.000000</td>\n",
       "      <td>NaN</td>\n",
       "    </tr>\n",
       "    <tr>\n",
       "      <th>datahub5</th>\n",
       "      <td>119.312000</td>\n",
       "      <td>147.005000</td>\n",
       "      <td>8.130410e+02</td>\n",
       "      <td>495.764000</td>\n",
       "      <td>NaN</td>\n",
       "    </tr>\n",
       "    <tr>\n",
       "      <th>datahub6</th>\n",
       "      <td>19016.000000</td>\n",
       "      <td>55.792000</td>\n",
       "      <td>1.971799e+06</td>\n",
       "      <td>166497.000000</td>\n",
       "      <td>NaN</td>\n",
       "    </tr>\n",
       "    <tr>\n",
       "      <th>datahub7</th>\n",
       "      <td>8634.000000</td>\n",
       "      <td>46.449000</td>\n",
       "      <td>9.039160e+05</td>\n",
       "      <td>67301.000000</td>\n",
       "      <td>NaN</td>\n",
       "    </tr>\n",
       "    <tr>\n",
       "      <th>datahub8</th>\n",
       "      <td>291.756000</td>\n",
       "      <td>56.872000</td>\n",
       "      <td>9.098610e+02</td>\n",
       "      <td>6987.000000</td>\n",
       "      <td>NaN</td>\n",
       "    </tr>\n",
       "    <tr>\n",
       "      <th>datahub9</th>\n",
       "      <td>83.435000</td>\n",
       "      <td>49.028000</td>\n",
       "      <td>3.802830e+02</td>\n",
       "      <td>701.389000</td>\n",
       "      <td>NaN</td>\n",
       "    </tr>\n",
       "    <tr>\n",
       "      <th>env1</th>\n",
       "      <td>32.905333</td>\n",
       "      <td>60.131333</td>\n",
       "      <td>1.711580e+02</td>\n",
       "      <td>354.012333</td>\n",
       "      <td>NaN</td>\n",
       "    </tr>\n",
       "    <tr>\n",
       "      <th>env10</th>\n",
       "      <td>14.390667</td>\n",
       "      <td>33.578667</td>\n",
       "      <td>1.125247e+02</td>\n",
       "      <td>122.819000</td>\n",
       "      <td>NaN</td>\n",
       "    </tr>\n",
       "    <tr>\n",
       "      <th>env2</th>\n",
       "      <td>15.298000</td>\n",
       "      <td>62.071333</td>\n",
       "      <td>1.072210e+02</td>\n",
       "      <td>202.570667</td>\n",
       "      <td>NaN</td>\n",
       "    </tr>\n",
       "    <tr>\n",
       "      <th>env3</th>\n",
       "      <td>11.149000</td>\n",
       "      <td>60.549667</td>\n",
       "      <td>8.488633e+01</td>\n",
       "      <td>137.881000</td>\n",
       "      <td>NaN</td>\n",
       "    </tr>\n",
       "    <tr>\n",
       "      <th>env4</th>\n",
       "      <td>11.236000</td>\n",
       "      <td>62.637000</td>\n",
       "      <td>8.229067e+01</td>\n",
       "      <td>81.375333</td>\n",
       "      <td>NaN</td>\n",
       "    </tr>\n",
       "    <tr>\n",
       "      <th>env5</th>\n",
       "      <td>15.917667</td>\n",
       "      <td>66.314667</td>\n",
       "      <td>1.563023e+02</td>\n",
       "      <td>221.103333</td>\n",
       "      <td>NaN</td>\n",
       "    </tr>\n",
       "    <tr>\n",
       "      <th>env6</th>\n",
       "      <td>19.288667</td>\n",
       "      <td>66.089667</td>\n",
       "      <td>1.598717e+02</td>\n",
       "      <td>240.147667</td>\n",
       "      <td>NaN</td>\n",
       "    </tr>\n",
       "    <tr>\n",
       "      <th>env7</th>\n",
       "      <td>16.121000</td>\n",
       "      <td>53.145000</td>\n",
       "      <td>1.287427e+02</td>\n",
       "      <td>198.552333</td>\n",
       "      <td>NaN</td>\n",
       "    </tr>\n",
       "    <tr>\n",
       "      <th>env8</th>\n",
       "      <td>18.055000</td>\n",
       "      <td>99.588333</td>\n",
       "      <td>1.669823e+02</td>\n",
       "      <td>344.445333</td>\n",
       "      <td>NaN</td>\n",
       "    </tr>\n",
       "    <tr>\n",
       "      <th>env9</th>\n",
       "      <td>15.953333</td>\n",
       "      <td>53.782667</td>\n",
       "      <td>1.274533e+02</td>\n",
       "      <td>198.469333</td>\n",
       "      <td>NaN</td>\n",
       "    </tr>\n",
       "  </tbody>\n",
       "</table>\n",
       "</div>"
      ],
      "text/plain": [
       "               c_CNN_time    c_DNN_time   c_LSTM_time  c_transformer_time  \\\n",
       "Environment                                                                 \n",
       "datahub1     10059.000000  13676.000000  8.739500e+04        68193.000000   \n",
       "datahub10       22.238000     50.162000  2.748540e+02          261.713000   \n",
       "datahub2      4267.000000   4488.000000  6.278800e+04        15780.000000   \n",
       "datahub3       675.796000   1191.000000  7.188000e+03         4690.000000   \n",
       "datahub4        26.471000    235.421000  7.891550e+02         1127.000000   \n",
       "datahub5       119.312000    147.005000  8.130410e+02          495.764000   \n",
       "datahub6     19016.000000     55.792000  1.971799e+06       166497.000000   \n",
       "datahub7      8634.000000     46.449000  9.039160e+05        67301.000000   \n",
       "datahub8       291.756000     56.872000  9.098610e+02         6987.000000   \n",
       "datahub9        83.435000     49.028000  3.802830e+02          701.389000   \n",
       "env1            32.905333     60.131333  1.711580e+02          354.012333   \n",
       "env10           14.390667     33.578667  1.125247e+02          122.819000   \n",
       "env2            15.298000     62.071333  1.072210e+02          202.570667   \n",
       "env3            11.149000     60.549667  8.488633e+01          137.881000   \n",
       "env4            11.236000     62.637000  8.229067e+01           81.375333   \n",
       "env5            15.917667     66.314667  1.563023e+02          221.103333   \n",
       "env6            19.288667     66.089667  1.598717e+02          240.147667   \n",
       "env7            16.121000     53.145000  1.287427e+02          198.552333   \n",
       "env8            18.055000     99.588333  1.669823e+02          344.445333   \n",
       "env9            15.953333     53.782667  1.274533e+02          198.469333   \n",
       "\n",
       "             g_LSTM_time  \n",
       "Environment               \n",
       "datahub1             NaN  \n",
       "datahub10            NaN  \n",
       "datahub2             NaN  \n",
       "datahub3             NaN  \n",
       "datahub4             NaN  \n",
       "datahub5             NaN  \n",
       "datahub6             NaN  \n",
       "datahub7             NaN  \n",
       "datahub8             NaN  \n",
       "datahub9             NaN  \n",
       "env1                 NaN  \n",
       "env10                NaN  \n",
       "env2                 NaN  \n",
       "env3                 NaN  \n",
       "env4                 NaN  \n",
       "env5                 NaN  \n",
       "env6                 NaN  \n",
       "env7                 NaN  \n",
       "env8                 NaN  \n",
       "env9                 NaN  "
      ]
     },
     "execution_count": 8,
     "metadata": {},
     "output_type": "execute_result"
    }
   ],
   "source": [
    "mean_trials = runtime_data.groupby(\"Environment\").mean().drop(columns=[\"Trial\"])\n",
    "mean_trials"
   ]
  },
  {
   "cell_type": "code",
   "execution_count": 11,
   "id": "fc33d6da",
   "metadata": {},
   "outputs": [
    {
     "name": "stderr",
     "output_type": "stream",
     "text": [
      "/tmp/ipykernel_1489012/391517136.py:2: FutureWarning: The default value of numeric_only in DataFrameGroupBy.mean is deprecated. In a future version, numeric_only will default to False. Either specify numeric_only or select only columns which should be valid for the function.\n",
      "  same_cpu_core = merged_data[merged_data['vcpu'] == 4].groupby(\"Environment\").mean().drop(columns=[\"Trial\"]).merge(env_data, left_on=\"Environment\", right_index=True, how=\"left\")\n"
     ]
    },
    {
     "data": {
      "image/png": "[encoded data removed]",
      "text/plain": [
       "<Figure size 1000x500 with 1 Axes>"
      ]
     },
     "metadata": {},
     "output_type": "display_data"
    }
   ],
   "source": [
    "# merged the cpu type back\n",
    "same_cpu_core = merged_data[merged_data['vcpu'] == 4].groupby(\"Environment\").mean().drop(columns=[\"Trial\"]).merge(env_data, left_on=\"Environment\", right_index=True, how=\"left\")\n",
    "rows_to_keep = ['datahub3', 'datahub8', 'env3', 'env7']\n",
    "same_cpu_core = same_cpu_core[same_cpu_core.index.isin(rows_to_keep)]\n",
    "\n",
    "# plot the data, only use cnn, dnn, and T\n",
    "# use stacked bar plot with seaborn\n",
    "# put T on the bottom\n",
    "fig, ax = plt.subplots(figsize=(10, 5))\n",
    "barWidth = 0.25\n",
    "bars1 = same_cpu_core['c_CNN_time']\n",
    "bars2 = same_cpu_core['c_DNN_time']\n",
    "bars3 = same_cpu_core['c_transformer_time']\n",
    "r1 = np.arange(len(bars1))\n",
    "r2 = [x + barWidth for x in r1]\n",
    "r3 = [x + barWidth for x in r2]\n",
    "plt.bar(r1, bars1, color='#003049', width=barWidth, label='CNN')\n",
    "plt.bar(r2, bars2, color='#D62828', width=barWidth, label='DNN')\n",
    "plt.bar(r3, bars3, color='#FCBF49', width=barWidth, label='Transformer')\n",
    "plt.xlabel('CPU Name', fontweight='bold')\n",
    "plt.xticks([r + barWidth for r in range(len(bars1))], same_cpu_core['cpu_type'])\n",
    "# log scale\n",
    "plt.yscale('log')\n",
    "# y label logged\n",
    "plt.ylabel('log(runtime) in ms', fontweight='bold')\n",
    "plt.title('Runtime of CNN, DNN, and Transformer on quad-core CPUs', fontweight='bold', fontsize=15)\n",
    "\n",
    "# Add exact numbers on each bar\n",
    "for i, bar in enumerate(bars1):\n",
    "    plt.text(i, bar + 0.1, str(round(bar, 2)), ha='center', va='bottom')\n",
    "for i, bar in enumerate(bars2):\n",
    "    plt.text(i + barWidth, bar, str(round(bar, 2)), ha='center', va='bottom')\n",
    "for i, bar in enumerate(bars3):\n",
    "    plt.text(i + 2 * barWidth, bar, str(round(bar, 2)), ha='center', va='bottom')\n",
    "\n",
    "plt.legend()\n",
    "\n",
    "# get rid the plot frame and keep the x and y axis\n",
    "sns.despine()\n",
    "\n",
    "plt.grid(axis='y', linestyle='--', alpha=0.2);\n",
    "\n",
    "# smaller margin\n",
    "plt.margins(0.06)\n",
    "\n",
    "# better resolution retina\n",
    "plt.savefig('runtime_cpu.png', dpi=1000)"
   ]
  },
  {
   "cell_type": "code",
   "execution_count": 19,
   "id": "5ec64d3f",
   "metadata": {},
   "outputs": [
    {
     "data": {
      "text/html": [
       "<div>\n",
       "<style scoped>\n",
       "    .dataframe tbody tr th:only-of-type {\n",
       "        vertical-align: middle;\n",
       "    }\n",
       "\n",
       "    .dataframe tbody tr th {\n",
       "        vertical-align: top;\n",
       "    }\n",
       "\n",
       "    .dataframe thead th {\n",
       "        text-align: right;\n",
       "    }\n",
       "</style>\n",
       "<table border=\"1\" class=\"dataframe\">\n",
       "  <thead>\n",
       "    <tr style=\"text-align: right;\">\n",
       "      <th></th>\n",
       "      <th>Environment</th>\n",
       "      <th>Trial</th>\n",
       "      <th>c_CNN_time</th>\n",
       "      <th>c_DNN_time</th>\n",
       "      <th>c_LSTM_time</th>\n",
       "      <th>c_transformer_time</th>\n",
       "      <th>g_CNN_time</th>\n",
       "      <th>g_DNN_time</th>\n",
       "      <th>g_transformer_time</th>\n",
       "      <th>g_LSTM_time</th>\n",
       "      <th>Instance</th>\n",
       "      <th>vcpu</th>\n",
       "      <th>cpu_mem (GiB)</th>\n",
       "      <th>cpu_type</th>\n",
       "      <th>gpu</th>\n",
       "      <th>gpu_mem (GiB)</th>\n",
       "      <th>gpu_type</th>\n",
       "    </tr>\n",
       "  </thead>\n",
       "  <tbody>\n",
       "    <tr>\n",
       "      <th>5</th>\n",
       "      <td>datahub5</td>\n",
       "      <td>1</td>\n",
       "      <td>119.312</td>\n",
       "      <td>147.005</td>\n",
       "      <td>813.041</td>\n",
       "      <td>495.764</td>\n",
       "      <td>[1469.0, 1.139]</td>\n",
       "      <td>[16.187, 2.862]</td>\n",
       "      <td>[57.146, 9.494]</td>\n",
       "      <td>NaN</td>\n",
       "      <td>NaN</td>\n",
       "      <td>12</td>\n",
       "      <td>32.0</td>\n",
       "      <td>Intel(R) Xeon(R) Gold 5218</td>\n",
       "      <td>1</td>\n",
       "      <td>NaN</td>\n",
       "      <td>2080ti</td>\n",
       "    </tr>\n",
       "    <tr>\n",
       "      <th>4</th>\n",
       "      <td>datahub4</td>\n",
       "      <td>1</td>\n",
       "      <td>26.471</td>\n",
       "      <td>235.421</td>\n",
       "      <td>789.155</td>\n",
       "      <td>1127.000</td>\n",
       "      <td>[1549.0, 1.174]</td>\n",
       "      <td>[20.413, 2.864]</td>\n",
       "      <td>[59.692, 9.808]</td>\n",
       "      <td>NaN</td>\n",
       "      <td>NaN</td>\n",
       "      <td>8</td>\n",
       "      <td>32.0</td>\n",
       "      <td>Intel(R) Xeon(R) Gold 5218</td>\n",
       "      <td>1</td>\n",
       "      <td>NaN</td>\n",
       "      <td>2080ti</td>\n",
       "    </tr>\n",
       "    <tr>\n",
       "      <th>3</th>\n",
       "      <td>datahub3</td>\n",
       "      <td>1</td>\n",
       "      <td>675.796</td>\n",
       "      <td>1191.000</td>\n",
       "      <td>7188.000</td>\n",
       "      <td>4690.000</td>\n",
       "      <td>[1573.0, 1.138]</td>\n",
       "      <td>[18.172, 2.858]</td>\n",
       "      <td>[60.954, 9.515]</td>\n",
       "      <td>NaN</td>\n",
       "      <td>NaN</td>\n",
       "      <td>4</td>\n",
       "      <td>32.0</td>\n",
       "      <td>Intel(R) Xeon(R) Gold 5218</td>\n",
       "      <td>1</td>\n",
       "      <td>NaN</td>\n",
       "      <td>2080ti</td>\n",
       "    </tr>\n",
       "    <tr>\n",
       "      <th>2</th>\n",
       "      <td>datahub2</td>\n",
       "      <td>1</td>\n",
       "      <td>4267.000</td>\n",
       "      <td>4488.000</td>\n",
       "      <td>62788.000</td>\n",
       "      <td>15780.000</td>\n",
       "      <td>[1384.0, 1.154]</td>\n",
       "      <td>[17.723, 2.864]</td>\n",
       "      <td>[92.822, 9.504]</td>\n",
       "      <td>NaN</td>\n",
       "      <td>NaN</td>\n",
       "      <td>2</td>\n",
       "      <td>32.0</td>\n",
       "      <td>Intel(R) Xeon(R) Gold 5218</td>\n",
       "      <td>1</td>\n",
       "      <td>NaN</td>\n",
       "      <td>2080ti</td>\n",
       "    </tr>\n",
       "    <tr>\n",
       "      <th>0</th>\n",
       "      <td>datahub1</td>\n",
       "      <td>1</td>\n",
       "      <td>10059.000</td>\n",
       "      <td>13676.000</td>\n",
       "      <td>87395.000</td>\n",
       "      <td>68193.000</td>\n",
       "      <td>[1451.0, 1.159]</td>\n",
       "      <td>[22.576, 2.88]</td>\n",
       "      <td>[81.142, 9.617]</td>\n",
       "      <td>NaN</td>\n",
       "      <td>NaN</td>\n",
       "      <td>1</td>\n",
       "      <td>32.0</td>\n",
       "      <td>Intel(R) Xeon(R) Gold 5218</td>\n",
       "      <td>1</td>\n",
       "      <td>NaN</td>\n",
       "      <td>2080ti</td>\n",
       "    </tr>\n",
       "  </tbody>\n",
       "</table>\n",
       "</div>"
      ],
      "text/plain": [
       "  Environment  Trial  c_CNN_time  c_DNN_time  c_LSTM_time  c_transformer_time  \\\n",
       "5    datahub5      1     119.312     147.005      813.041             495.764   \n",
       "4    datahub4      1      26.471     235.421      789.155            1127.000   \n",
       "3    datahub3      1     675.796    1191.000     7188.000            4690.000   \n",
       "2    datahub2      1    4267.000    4488.000    62788.000           15780.000   \n",
       "0    datahub1      1   10059.000   13676.000    87395.000           68193.000   \n",
       "\n",
       "        g_CNN_time       g_DNN_time g_transformer_time  g_LSTM_time Instance  \\\n",
       "5  [1469.0, 1.139]  [16.187, 2.862]    [57.146, 9.494]          NaN      NaN   \n",
       "4  [1549.0, 1.174]  [20.413, 2.864]    [59.692, 9.808]          NaN      NaN   \n",
       "3  [1573.0, 1.138]  [18.172, 2.858]    [60.954, 9.515]          NaN      NaN   \n",
       "2  [1384.0, 1.154]  [17.723, 2.864]    [92.822, 9.504]          NaN      NaN   \n",
       "0  [1451.0, 1.159]   [22.576, 2.88]    [81.142, 9.617]          NaN      NaN   \n",
       "\n",
       "   vcpu  cpu_mem (GiB)                    cpu_type  gpu  gpu_mem (GiB)  \\\n",
       "5    12           32.0  Intel(R) Xeon(R) Gold 5218    1            NaN   \n",
       "4     8           32.0  Intel(R) Xeon(R) Gold 5218    1            NaN   \n",
       "3     4           32.0  Intel(R) Xeon(R) Gold 5218    1            NaN   \n",
       "2     2           32.0  Intel(R) Xeon(R) Gold 5218    1            NaN   \n",
       "0     1           32.0  Intel(R) Xeon(R) Gold 5218    1            NaN   \n",
       "\n",
       "  gpu_type  \n",
       "5   2080ti  \n",
       "4   2080ti  \n",
       "3   2080ti  \n",
       "2   2080ti  \n",
       "0   2080ti  "
      ]
     },
     "execution_count": 19,
     "metadata": {},
     "output_type": "execute_result"
    }
   ],
   "source": [
    "merged_data[(merged_data['gpu'] == 1) & (merged_data['cpu_type'] == \"Intel(R) Xeon(R) Gold 5218\")].sort_values(by=['vcpu', 'cpu_type'], ascending=False)"
   ]
  },
  {
   "cell_type": "code",
   "execution_count": 47,
   "id": "82bbf253",
   "metadata": {},
   "outputs": [
    {
     "data": {
      "application/vnd.plotly.v1+json": {
       "config": {
        "plotlyServerURL": "https://plot.ly"
       },
       "data": [
        {
         "marker": {
          "color": "#003049"
         },
         "name": "CNN",
         "textfont": {
          "size": 14
         },
         "textposition": "outside",
         "type": "bar",
         "x": [
          "Intel(R) Xeon(R) Gold 5218",
          "AMD EPYC 7543P",
          "AMD EPYC Gen4",
          "Intel Xeon 8375C (Ice Lake)"
         ],
         "y": [
          675.796,
          291.756,
          11.149000000000001,
          16.121
         ]
        },
        {
         "marker": {
          "color": "#D62828"
         },
         "name": "DNN",
         "textfont": {
          "size": 14
         },
         "textposition": "outside",
         "type": "bar",
         "x": [
          "Intel(R) Xeon(R) Gold 5218",
          "AMD EPYC 7543P",
          "AMD EPYC Gen4",
          "Intel Xeon 8375C (Ice Lake)"
         ],
         "y": [
          1191,
          56.872,
          60.54966666666667,
          53.145
         ]
        },
        {
         "marker": {
          "color": "#FCBF49"
         },
         "name": "Transformer",
         "textfont": {
          "size": 14
         },
         "textposition": "outside",
         "type": "bar",
         "x": [
          "Intel(R) Xeon(R) Gold 5218",
          "AMD EPYC 7543P",
          "AMD EPYC Gen4",
          "Intel Xeon 8375C (Ice Lake)"
         ],
         "y": [
          4690,
          6987,
          137.881,
          198.55233333333334
         ]
        }
       ],
       "layout": {
        "bargap": 0.15,
        "bargroupgap": 0.1,
        "barmode": "group",
        "template": {
         "data": {
          "bar": [
           {
            "error_x": {
             "color": "#2a3f5f"
            },
            "error_y": {
             "color": "#2a3f5f"
            },
            "marker": {
             "line": {
              "color": "#E5ECF6",
              "width": 0.5
             },
             "pattern": {
              "fillmode": "overlay",
              "size": 10,
              "solidity": 0.2
             }
            },
            "type": "bar"
           }
          ],
          "barpolar": [
           {
            "marker": {
             "line": {
              "color": "#E5ECF6",
              "width": 0.5
             },
             "pattern": {
              "fillmode": "overlay",
              "size": 10,
              "solidity": 0.2
             }
            },
            "type": "barpolar"
           }
          ],
          "carpet": [
           {
            "aaxis": {
             "endlinecolor": "#2a3f5f",
             "gridcolor": "white",
             "linecolor": "white",
             "minorgridcolor": "white",
             "startlinecolor": "#2a3f5f"
            },
            "baxis": {
             "endlinecolor": "#2a3f5f",
             "gridcolor": "white",
             "linecolor": "white",
             "minorgridcolor": "white",
             "startlinecolor": "#2a3f5f"
            },
            "type": "carpet"
           }
          ],
          "choropleth": [
           {
            "colorbar": {
             "outlinewidth": 0,
             "ticks": ""
            },
            "type": "choropleth"
           }
          ],
          "contour": [
           {
            "colorbar": {
             "outlinewidth": 0,
             "ticks": ""
            },
            "colorscale": [
             [
              0,
              "#0d0887"
             ],
             [
              0.1111111111111111,
              "#46039f"
             ],
             [
              0.2222222222222222,
              "#7201a8"
             ],
             [
              0.3333333333333333,
              "#9c179e"
             ],
             [
              0.4444444444444444,
              "#bd3786"
             ],
             [
              0.5555555555555556,
              "#d8576b"
             ],
             [
              0.6666666666666666,
              "#ed7953"
             ],
             [
              0.7777777777777778,
              "#fb9f3a"
             ],
             [
              0.8888888888888888,
              "#fdca26"
             ],
             [
              1,
              "#f0f921"
             ]
            ],
            "type": "contour"
           }
          ],
          "contourcarpet": [
           {
            "colorbar": {
             "outlinewidth": 0,
             "ticks": ""
            },
            "type": "contourcarpet"
           }
          ],
          "heatmap": [
           {
            "colorbar": {
             "outlinewidth": 0,
             "ticks": ""
            },
            "colorscale": [
             [
              0,
              "#0d0887"
             ],
             [
              0.1111111111111111,
              "#46039f"
             ],
             [
              0.2222222222222222,
              "#7201a8"
             ],
             [
              0.3333333333333333,
              "#9c179e"
             ],
             [
              0.4444444444444444,
              "#bd3786"
             ],
             [
              0.5555555555555556,
              "#d8576b"
             ],
             [
              0.6666666666666666,
              "#ed7953"
             ],
             [
              0.7777777777777778,
              "#fb9f3a"
             ],
             [
              0.8888888888888888,
              "#fdca26"
             ],
             [
              1,
              "#f0f921"
             ]
            ],
            "type": "heatmap"
           }
          ],
          "heatmapgl": [
           {
            "colorbar": {
             "outlinewidth": 0,
             "ticks": ""
            },
            "colorscale": [
             [
              0,
              "#0d0887"
             ],
             [
              0.1111111111111111,
              "#46039f"
             ],
             [
              0.2222222222222222,
              "#7201a8"
             ],
             [
              0.3333333333333333,
              "#9c179e"
             ],
             [
              0.4444444444444444,
              "#bd3786"
             ],
             [
              0.5555555555555556,
              "#d8576b"
             ],
             [
              0.6666666666666666,
              "#ed7953"
             ],
             [
              0.7777777777777778,
              "#fb9f3a"
             ],
             [
              0.8888888888888888,
              "#fdca26"
             ],
             [
              1,
              "#f0f921"
             ]
            ],
            "type": "heatmapgl"
           }
          ],
          "histogram": [
           {
            "marker": {
             "pattern": {
              "fillmode": "overlay",
              "size": 10,
              "solidity": 0.2
             }
            },
            "type": "histogram"
           }
          ],
          "histogram2d": [
           {
            "colorbar": {
             "outlinewidth": 0,
             "ticks": ""
            },
            "colorscale": [
             [
              0,
              "#0d0887"
             ],
             [
              0.1111111111111111,
              "#46039f"
             ],
             [
              0.2222222222222222,
              "#7201a8"
             ],
             [
              0.3333333333333333,
              "#9c179e"
             ],
             [
              0.4444444444444444,
              "#bd3786"
             ],
             [
              0.5555555555555556,
              "#d8576b"
             ],
             [
              0.6666666666666666,
              "#ed7953"
             ],
             [
              0.7777777777777778,
              "#fb9f3a"
             ],
             [
              0.8888888888888888,
              "#fdca26"
             ],
             [
              1,
              "#f0f921"
             ]
            ],
            "type": "histogram2d"
           }
          ],
          "histogram2dcontour": [
           {
            "colorbar": {
             "outlinewidth": 0,
             "ticks": ""
            },
            "colorscale": [
             [
              0,
              "#0d0887"
             ],
             [
              0.1111111111111111,
              "#46039f"
             ],
             [
              0.2222222222222222,
              "#7201a8"
             ],
             [
              0.3333333333333333,
              "#9c179e"
             ],
             [
              0.4444444444444444,
              "#bd3786"
             ],
             [
              0.5555555555555556,
              "#d8576b"
             ],
             [
              0.6666666666666666,
              "#ed7953"
             ],
             [
              0.7777777777777778,
              "#fb9f3a"
             ],
             [
              0.8888888888888888,
              "#fdca26"
             ],
             [
              1,
              "#f0f921"
             ]
            ],
            "type": "histogram2dcontour"
           }
          ],
          "mesh3d": [
           {
            "colorbar": {
             "outlinewidth": 0,
             "ticks": ""
            },
            "type": "mesh3d"
           }
          ],
          "parcoords": [
           {
            "line": {
             "colorbar": {
              "outlinewidth": 0,
              "ticks": ""
             }
            },
            "type": "parcoords"
           }
          ],
          "pie": [
           {
            "automargin": true,
            "type": "pie"
           }
          ],
          "scatter": [
           {
            "fillpattern": {
             "fillmode": "overlay",
             "size": 10,
             "solidity": 0.2
            },
            "type": "scatter"
           }
          ],
          "scatter3d": [
           {
            "line": {
             "colorbar": {
              "outlinewidth": 0,
              "ticks": ""
             }
            },
            "marker": {
             "colorbar": {
              "outlinewidth": 0,
              "ticks": ""
             }
            },
            "type": "scatter3d"
           }
          ],
          "scattercarpet": [
           {
            "marker": {
             "colorbar": {
              "outlinewidth": 0,
              "ticks": ""
             }
            },
            "type": "scattercarpet"
           }
          ],
          "scattergeo": [
           {
            "marker": {
             "colorbar": {
              "outlinewidth": 0,
              "ticks": ""
             }
            },
            "type": "scattergeo"
           }
          ],
          "scattergl": [
           {
            "marker": {
             "colorbar": {
              "outlinewidth": 0,
              "ticks": ""
             }
            },
            "type": "scattergl"
           }
          ],
          "scattermapbox": [
           {
            "marker": {
             "colorbar": {
              "outlinewidth": 0,
              "ticks": ""
             }
            },
            "type": "scattermapbox"
           }
          ],
          "scatterpolar": [
           {
            "marker": {
             "colorbar": {
              "outlinewidth": 0,
              "ticks": ""
             }
            },
            "type": "scatterpolar"
           }
          ],
          "scatterpolargl": [
           {
            "marker": {
             "colorbar": {
              "outlinewidth": 0,
              "ticks": ""
             }
            },
            "type": "scatterpolargl"
           }
          ],
          "scatterternary": [
           {
            "marker": {
             "colorbar": {
              "outlinewidth": 0,
              "ticks": ""
             }
            },
            "type": "scatterternary"
           }
          ],
          "surface": [
           {
            "colorbar": {
             "outlinewidth": 0,
             "ticks": ""
            },
            "colorscale": [
             [
              0,
              "#0d0887"
             ],
             [
              0.1111111111111111,
              "#46039f"
             ],
             [
              0.2222222222222222,
              "#7201a8"
             ],
             [
              0.3333333333333333,
              "#9c179e"
             ],
             [
              0.4444444444444444,
              "#bd3786"
             ],
             [
              0.5555555555555556,
              "#d8576b"
             ],
             [
              0.6666666666666666,
              "#ed7953"
             ],
             [
              0.7777777777777778,
              "#fb9f3a"
             ],
             [
              0.8888888888888888,
              "#fdca26"
             ],
             [
              1,
              "#f0f921"
             ]
            ],
            "type": "surface"
           }
          ],
          "table": [
           {
            "cells": {
             "fill": {
              "color": "#EBF0F8"
             },
             "line": {
              "color": "white"
             }
            },
            "header": {
             "fill": {
              "color": "#C8D4E3"
             },
             "line": {
              "color": "white"
             }
            },
            "type": "table"
           }
          ]
         },
         "layout": {
          "annotationdefaults": {
           "arrowcolor": "#2a3f5f",
           "arrowhead": 0,
           "arrowwidth": 1
          },
          "autotypenumbers": "strict",
          "coloraxis": {
           "colorbar": {
            "outlinewidth": 0,
            "ticks": ""
           }
          },
          "colorscale": {
           "diverging": [
            [
             0,
             "#8e0152"
            ],
            [
             0.1,
             "#c51b7d"
            ],
            [
             0.2,
             "#de77ae"
            ],
            [
             0.3,
             "#f1b6da"
            ],
            [
             0.4,
             "#fde0ef"
            ],
            [
             0.5,
             "#f7f7f7"
            ],
            [
             0.6,
             "#e6f5d0"
            ],
            [
             0.7,
             "#b8e186"
            ],
            [
             0.8,
             "#7fbc41"
            ],
            [
             0.9,
             "#4d9221"
            ],
            [
             1,
             "#276419"
            ]
           ],
           "sequential": [
            [
             0,
             "#0d0887"
            ],
            [
             0.1111111111111111,
             "#46039f"
            ],
            [
             0.2222222222222222,
             "#7201a8"
            ],
            [
             0.3333333333333333,
             "#9c179e"
            ],
            [
             0.4444444444444444,
             "#bd3786"
            ],
            [
             0.5555555555555556,
             "#d8576b"
            ],
            [
             0.6666666666666666,
             "#ed7953"
            ],
            [
             0.7777777777777778,
             "#fb9f3a"
            ],
            [
             0.8888888888888888,
             "#fdca26"
            ],
            [
             1,
             "#f0f921"
            ]
           ],
           "sequentialminus": [
            [
             0,
             "#0d0887"
            ],
            [
             0.1111111111111111,
             "#46039f"
            ],
            [
             0.2222222222222222,
             "#7201a8"
            ],
            [
             0.3333333333333333,
             "#9c179e"
            ],
            [
             0.4444444444444444,
             "#bd3786"
            ],
            [
             0.5555555555555556,
             "#d8576b"
            ],
            [
             0.6666666666666666,
             "#ed7953"
            ],
            [
             0.7777777777777778,
             "#fb9f3a"
            ],
            [
             0.8888888888888888,
             "#fdca26"
            ],
            [
             1,
             "#f0f921"
            ]
           ]
          },
          "colorway": [
           "#636efa",
           "#EF553B",
           "#00cc96",
           "#ab63fa",
           "#FFA15A",
           "#19d3f3",
           "#FF6692",
           "#B6E880",
           "#FF97FF",
           "#FECB52"
          ],
          "font": {
           "color": "#2a3f5f"
          },
          "geo": {
           "bgcolor": "white",
           "lakecolor": "white",
           "landcolor": "#E5ECF6",
           "showlakes": true,
           "showland": true,
           "subunitcolor": "white"
          },
          "hoverlabel": {
           "align": "left"
          },
          "hovermode": "closest",
          "mapbox": {
           "style": "light"
          },
          "paper_bgcolor": "white",
          "plot_bgcolor": "#E5ECF6",
          "polar": {
           "angularaxis": {
            "gridcolor": "white",
            "linecolor": "white",
            "ticks": ""
           },
           "bgcolor": "#E5ECF6",
           "radialaxis": {
            "gridcolor": "white",
            "linecolor": "white",
            "ticks": ""
           }
          },
          "scene": {
           "xaxis": {
            "backgroundcolor": "#E5ECF6",
            "gridcolor": "white",
            "gridwidth": 2,
            "linecolor": "white",
            "showbackground": true,
            "ticks": "",
            "zerolinecolor": "white"
           },
           "yaxis": {
            "backgroundcolor": "#E5ECF6",
            "gridcolor": "white",
            "gridwidth": 2,
            "linecolor": "white",
            "showbackground": true,
            "ticks": "",
            "zerolinecolor": "white"
           },
           "zaxis": {
            "backgroundcolor": "#E5ECF6",
            "gridcolor": "white",
            "gridwidth": 2,
            "linecolor": "white",
            "showbackground": true,
            "ticks": "",
            "zerolinecolor": "white"
           }
          },
          "shapedefaults": {
           "line": {
            "color": "#2a3f5f"
           }
          },
          "ternary": {
           "aaxis": {
            "gridcolor": "white",
            "linecolor": "white",
            "ticks": ""
           },
           "baxis": {
            "gridcolor": "white",
            "linecolor": "white",
            "ticks": ""
           },
           "bgcolor": "#E5ECF6",
           "caxis": {
            "gridcolor": "white",
            "linecolor": "white",
            "ticks": ""
           }
          },
          "title": {
           "x": 0.05
          },
          "xaxis": {
           "automargin": true,
           "gridcolor": "white",
           "linecolor": "white",
           "ticks": "",
           "title": {
            "standoff": 15
           },
           "zerolinecolor": "white",
           "zerolinewidth": 2
          },
          "yaxis": {
           "automargin": true,
           "gridcolor": "white",
           "linecolor": "white",
           "ticks": "",
           "title": {
            "standoff": 15
           },
           "zerolinecolor": "white",
           "zerolinewidth": 2
          }
         }
        },
        "title": {
         "font": {
          "family": "Arial",
          "size": 20
         },
         "text": "Runtime of CNN, DNN, and Transformer on quad-core CPUs"
        },
        "xaxis": {
         "tickfont": {
          "size": 14
         },
         "title": {
          "font": {
           "family": "Arial",
           "size": 18
          },
          "text": "CPU Name"
         }
        },
        "yaxis": {
         "tickfont": {
          "size": 14
         },
         "title": {
          "font": {
           "family": "Arial",
           "size": 18
          },
          "text": "Log(CPU Runtime) (ms)"
         },
         "type": "log"
        }
       }
      }
     },
     "metadata": {},
     "output_type": "display_data"
    }
   ],
   "source": [
    "# create the same plot as the cell above but in plotly\n",
    "import plotly.express as px\n",
    "import plotly.graph_objects as go\n",
    "\n",
    "fig = go.Figure()\n",
    "\n",
    "fig.add_trace(go.Bar(x=same_cpu_core['cpu_type'], y=same_cpu_core['c_CNN_time'], name='CNN', marker_color='#003049'))\n",
    "fig.add_trace(go.Bar(x=same_cpu_core['cpu_type'], y=same_cpu_core['c_DNN_time'], name='DNN', marker_color='#D62828'))\n",
    "fig.add_trace(go.Bar(x=same_cpu_core['cpu_type'], y=same_cpu_core['c_T_time'], name='Transformer', marker_color='#FCBF49'))\n",
    "\n",
    "fig.update_layout(\n",
    "    title='Runtime of CNN, DNN, and Transformer on quad-core CPUs',\n",
    "    xaxis=dict(\n",
    "        title='CPU Name',\n",
    "        titlefont_size=16,\n",
    "        tickfont_size=14,\n",
    "    ),\n",
    "    yaxis=dict(\n",
    "        title='Log(CPU Runtime) (ms)',\n",
    "        titlefont_size=16,\n",
    "        tickfont_size=14,\n",
    "        type='log'\n",
    "    ),\n",
    "    barmode='group',\n",
    "    bargap=0.15,\n",
    "    bargroupgap=0.1\n",
    ")\n",
    "\n",
    "# use black text \n",
    "fig.update_traces(textposition='outside', textfont_size=14)\n",
    "\n",
    "# bold the title and axis\n",
    "fig.update_layout(title_font_size=20, title_font_family='Arial')\n",
    "fig.update_xaxes(title_font_size=18, title_font_family='Arial')\n",
    "fig.update_yaxes(title_font_size=18, title_font_family='Arial')\n",
    "\n",
    "fig.show()\n",
    "# export it to html\n",
    "fig.write_html(\"docs/runtime_cpu.html\")"
   ]
  },
  {
   "cell_type": "code",
   "execution_count": 21,
   "id": "fc32abaf",
   "metadata": {},
   "outputs": [
    {
     "data": {
      "text/html": [
       "<div>\n",
       "<style scoped>\n",
       "    .dataframe tbody tr th:only-of-type {\n",
       "        vertical-align: middle;\n",
       "    }\n",
       "\n",
       "    .dataframe tbody tr th {\n",
       "        vertical-align: top;\n",
       "    }\n",
       "\n",
       "    .dataframe thead th {\n",
       "        text-align: right;\n",
       "    }\n",
       "</style>\n",
       "<table border=\"1\" class=\"dataframe\">\n",
       "  <thead>\n",
       "    <tr style=\"text-align: right;\">\n",
       "      <th></th>\n",
       "      <th>c_CNN_time</th>\n",
       "      <th>c_DNN_time</th>\n",
       "      <th>c_LSTM_time</th>\n",
       "      <th>c_T_time</th>\n",
       "      <th>g_CNN_time</th>\n",
       "      <th>g_DNN_time</th>\n",
       "      <th>g_LSTM_time</th>\n",
       "      <th>g_T_time</th>\n",
       "      <th>vcpu_x</th>\n",
       "      <th>cpu_mem (GiB)_x</th>\n",
       "      <th>gpu_x</th>\n",
       "      <th>gpu_mem (GiB)_x</th>\n",
       "      <th>Instance</th>\n",
       "      <th>vcpu_y</th>\n",
       "      <th>cpu_mem (GiB)_y</th>\n",
       "      <th>cpu_type</th>\n",
       "      <th>gpu_y</th>\n",
       "      <th>gpu_mem (GiB)_y</th>\n",
       "      <th>gpu_type</th>\n",
       "    </tr>\n",
       "    <tr>\n",
       "      <th>Environment</th>\n",
       "      <th></th>\n",
       "      <th></th>\n",
       "      <th></th>\n",
       "      <th></th>\n",
       "      <th></th>\n",
       "      <th></th>\n",
       "      <th></th>\n",
       "      <th></th>\n",
       "      <th></th>\n",
       "      <th></th>\n",
       "      <th></th>\n",
       "      <th></th>\n",
       "      <th></th>\n",
       "      <th></th>\n",
       "      <th></th>\n",
       "      <th></th>\n",
       "      <th></th>\n",
       "      <th></th>\n",
       "      <th></th>\n",
       "    </tr>\n",
       "  </thead>\n",
       "  <tbody>\n",
       "    <tr>\n",
       "      <th>datahub3</th>\n",
       "      <td>675.796</td>\n",
       "      <td>1191.000000</td>\n",
       "      <td>7188.000000</td>\n",
       "      <td>4690.000000</td>\n",
       "      <td>1.138</td>\n",
       "      <td>2.858</td>\n",
       "      <td>NaN</td>\n",
       "      <td>9.515</td>\n",
       "      <td>4.0</td>\n",
       "      <td>32.0</td>\n",
       "      <td>1.0</td>\n",
       "      <td>NaN</td>\n",
       "      <td>NaN</td>\n",
       "      <td>4</td>\n",
       "      <td>32.0</td>\n",
       "      <td>Intel(R) Xeon(R) Gold 5218</td>\n",
       "      <td>1</td>\n",
       "      <td>NaN</td>\n",
       "      <td>2080ti</td>\n",
       "    </tr>\n",
       "    <tr>\n",
       "      <th>datahub8</th>\n",
       "      <td>291.756</td>\n",
       "      <td>56.872000</td>\n",
       "      <td>909.861000</td>\n",
       "      <td>6987.000000</td>\n",
       "      <td>NaN</td>\n",
       "      <td>2.464</td>\n",
       "      <td>NaN</td>\n",
       "      <td>6.034</td>\n",
       "      <td>4.0</td>\n",
       "      <td>32.0</td>\n",
       "      <td>1.0</td>\n",
       "      <td>NaN</td>\n",
       "      <td>NaN</td>\n",
       "      <td>4</td>\n",
       "      <td>32.0</td>\n",
       "      <td>AMD EPYC 7543P</td>\n",
       "      <td>1</td>\n",
       "      <td>NaN</td>\n",
       "      <td>a5000</td>\n",
       "    </tr>\n",
       "    <tr>\n",
       "      <th>env3</th>\n",
       "      <td>11.149</td>\n",
       "      <td>60.549667</td>\n",
       "      <td>84.886333</td>\n",
       "      <td>137.881000</td>\n",
       "      <td>NaN</td>\n",
       "      <td>NaN</td>\n",
       "      <td>NaN</td>\n",
       "      <td>NaN</td>\n",
       "      <td>4.0</td>\n",
       "      <td>8.0</td>\n",
       "      <td>0.0</td>\n",
       "      <td>NaN</td>\n",
       "      <td>c7a.xlarge</td>\n",
       "      <td>4</td>\n",
       "      <td>8.0</td>\n",
       "      <td>AMD EPYC Gen4</td>\n",
       "      <td>0</td>\n",
       "      <td>NaN</td>\n",
       "      <td>NaN</td>\n",
       "    </tr>\n",
       "    <tr>\n",
       "      <th>env7</th>\n",
       "      <td>16.121</td>\n",
       "      <td>53.145000</td>\n",
       "      <td>128.742667</td>\n",
       "      <td>198.552333</td>\n",
       "      <td>NaN</td>\n",
       "      <td>NaN</td>\n",
       "      <td>NaN</td>\n",
       "      <td>NaN</td>\n",
       "      <td>4.0</td>\n",
       "      <td>32.0</td>\n",
       "      <td>0.0</td>\n",
       "      <td>NaN</td>\n",
       "      <td>r6i.xlarge</td>\n",
       "      <td>4</td>\n",
       "      <td>32.0</td>\n",
       "      <td>Intel Xeon 8375C (Ice Lake)</td>\n",
       "      <td>0</td>\n",
       "      <td>NaN</td>\n",
       "      <td>NaN</td>\n",
       "    </tr>\n",
       "  </tbody>\n",
       "</table>\n",
       "</div>"
      ],
      "text/plain": [
       "             c_CNN_time   c_DNN_time  c_LSTM_time     c_T_time  g_CNN_time  \\\n",
       "Environment                                                                  \n",
       "datahub3        675.796  1191.000000  7188.000000  4690.000000       1.138   \n",
       "datahub8        291.756    56.872000   909.861000  6987.000000         NaN   \n",
       "env3             11.149    60.549667    84.886333   137.881000         NaN   \n",
       "env7             16.121    53.145000   128.742667   198.552333         NaN   \n",
       "\n",
       "             g_DNN_time  g_LSTM_time  g_T_time  vcpu_x  cpu_mem (GiB)_x  \\\n",
       "Environment                                                               \n",
       "datahub3          2.858          NaN     9.515     4.0             32.0   \n",
       "datahub8          2.464          NaN     6.034     4.0             32.0   \n",
       "env3                NaN          NaN       NaN     4.0              8.0   \n",
       "env7                NaN          NaN       NaN     4.0             32.0   \n",
       "\n",
       "             gpu_x  gpu_mem (GiB)_x    Instance  vcpu_y  cpu_mem (GiB)_y  \\\n",
       "Environment                                                                \n",
       "datahub3       1.0              NaN         NaN       4             32.0   \n",
       "datahub8       1.0              NaN         NaN       4             32.0   \n",
       "env3           0.0              NaN  c7a.xlarge       4              8.0   \n",
       "env7           0.0              NaN  r6i.xlarge       4             32.0   \n",
       "\n",
       "                                cpu_type  gpu_y  gpu_mem (GiB)_y gpu_type  \n",
       "Environment                                                                \n",
       "datahub3      Intel(R) Xeon(R) Gold 5218      1              NaN   2080ti  \n",
       "datahub8                  AMD EPYC 7543P      1              NaN    a5000  \n",
       "env3                       AMD EPYC Gen4      0              NaN      NaN  \n",
       "env7         Intel Xeon 8375C (Ice Lake)      0              NaN      NaN  "
      ]
     },
     "execution_count": 21,
     "metadata": {},
     "output_type": "execute_result"
    }
   ],
   "source": [
    "same_cpu_core"
   ]
  },
  {
   "cell_type": "code",
   "execution_count": 22,
   "id": "fca729d1",
   "metadata": {},
   "outputs": [
    {
     "data": {
      "text/html": [
       "<div>\n",
       "<style scoped>\n",
       "    .dataframe tbody tr th:only-of-type {\n",
       "        vertical-align: middle;\n",
       "    }\n",
       "\n",
       "    .dataframe tbody tr th {\n",
       "        vertical-align: top;\n",
       "    }\n",
       "\n",
       "    .dataframe thead th {\n",
       "        text-align: right;\n",
       "    }\n",
       "</style>\n",
       "<table border=\"1\" class=\"dataframe\">\n",
       "  <thead>\n",
       "    <tr style=\"text-align: right;\">\n",
       "      <th></th>\n",
       "      <th>Environment</th>\n",
       "      <th>c_CNN_time</th>\n",
       "      <th>c_DNN_time</th>\n",
       "      <th>c_LSTM_time</th>\n",
       "      <th>c_transformer_time</th>\n",
       "      <th>g_CNN_time</th>\n",
       "      <th>g_DNN_time</th>\n",
       "      <th>g_transformer_time</th>\n",
       "      <th>g_LSTM_time</th>\n",
       "    </tr>\n",
       "  </thead>\n",
       "  <tbody>\n",
       "    <tr>\n",
       "      <th>0</th>\n",
       "      <td>env1</td>\n",
       "      <td>32.905333</td>\n",
       "      <td>60.131333</td>\n",
       "      <td>171.158000</td>\n",
       "      <td>354.012333</td>\n",
       "      <td>NaN</td>\n",
       "      <td>NaN</td>\n",
       "      <td>NaN</td>\n",
       "      <td>NaN</td>\n",
       "    </tr>\n",
       "    <tr>\n",
       "      <th>1</th>\n",
       "      <td>env10</td>\n",
       "      <td>14.390667</td>\n",
       "      <td>33.578667</td>\n",
       "      <td>112.524667</td>\n",
       "      <td>122.819000</td>\n",
       "      <td>NaN</td>\n",
       "      <td>NaN</td>\n",
       "      <td>NaN</td>\n",
       "      <td>NaN</td>\n",
       "    </tr>\n",
       "    <tr>\n",
       "      <th>2</th>\n",
       "      <td>env2</td>\n",
       "      <td>15.298000</td>\n",
       "      <td>62.071333</td>\n",
       "      <td>107.221000</td>\n",
       "      <td>202.570667</td>\n",
       "      <td>NaN</td>\n",
       "      <td>NaN</td>\n",
       "      <td>NaN</td>\n",
       "      <td>NaN</td>\n",
       "    </tr>\n",
       "    <tr>\n",
       "      <th>3</th>\n",
       "      <td>env3</td>\n",
       "      <td>11.149000</td>\n",
       "      <td>60.549667</td>\n",
       "      <td>84.886333</td>\n",
       "      <td>137.881000</td>\n",
       "      <td>NaN</td>\n",
       "      <td>NaN</td>\n",
       "      <td>NaN</td>\n",
       "      <td>NaN</td>\n",
       "    </tr>\n",
       "    <tr>\n",
       "      <th>4</th>\n",
       "      <td>env4</td>\n",
       "      <td>11.236000</td>\n",
       "      <td>62.637000</td>\n",
       "      <td>82.290667</td>\n",
       "      <td>81.375333</td>\n",
       "      <td>NaN</td>\n",
       "      <td>NaN</td>\n",
       "      <td>NaN</td>\n",
       "      <td>NaN</td>\n",
       "    </tr>\n",
       "    <tr>\n",
       "      <th>5</th>\n",
       "      <td>env5</td>\n",
       "      <td>15.917667</td>\n",
       "      <td>66.314667</td>\n",
       "      <td>156.302333</td>\n",
       "      <td>221.103333</td>\n",
       "      <td>NaN</td>\n",
       "      <td>NaN</td>\n",
       "      <td>NaN</td>\n",
       "      <td>NaN</td>\n",
       "    </tr>\n",
       "    <tr>\n",
       "      <th>6</th>\n",
       "      <td>env6</td>\n",
       "      <td>19.288667</td>\n",
       "      <td>66.089667</td>\n",
       "      <td>159.871667</td>\n",
       "      <td>240.147667</td>\n",
       "      <td>NaN</td>\n",
       "      <td>NaN</td>\n",
       "      <td>NaN</td>\n",
       "      <td>NaN</td>\n",
       "    </tr>\n",
       "    <tr>\n",
       "      <th>7</th>\n",
       "      <td>env7</td>\n",
       "      <td>16.121000</td>\n",
       "      <td>53.145000</td>\n",
       "      <td>128.742667</td>\n",
       "      <td>198.552333</td>\n",
       "      <td>NaN</td>\n",
       "      <td>NaN</td>\n",
       "      <td>NaN</td>\n",
       "      <td>NaN</td>\n",
       "    </tr>\n",
       "    <tr>\n",
       "      <th>8</th>\n",
       "      <td>env8</td>\n",
       "      <td>18.055000</td>\n",
       "      <td>99.588333</td>\n",
       "      <td>166.982333</td>\n",
       "      <td>344.445333</td>\n",
       "      <td>NaN</td>\n",
       "      <td>NaN</td>\n",
       "      <td>NaN</td>\n",
       "      <td>NaN</td>\n",
       "    </tr>\n",
       "    <tr>\n",
       "      <th>9</th>\n",
       "      <td>env9</td>\n",
       "      <td>15.953333</td>\n",
       "      <td>53.782667</td>\n",
       "      <td>127.453333</td>\n",
       "      <td>198.469333</td>\n",
       "      <td>NaN</td>\n",
       "      <td>NaN</td>\n",
       "      <td>NaN</td>\n",
       "      <td>NaN</td>\n",
       "    </tr>\n",
       "  </tbody>\n",
       "</table>\n",
       "</div>"
      ],
      "text/plain": [
       "  Environment  c_CNN_time  c_DNN_time  c_LSTM_time  c_transformer_time  \\\n",
       "0        env1   32.905333   60.131333   171.158000          354.012333   \n",
       "1       env10   14.390667   33.578667   112.524667          122.819000   \n",
       "2        env2   15.298000   62.071333   107.221000          202.570667   \n",
       "3        env3   11.149000   60.549667    84.886333          137.881000   \n",
       "4        env4   11.236000   62.637000    82.290667           81.375333   \n",
       "5        env5   15.917667   66.314667   156.302333          221.103333   \n",
       "6        env6   19.288667   66.089667   159.871667          240.147667   \n",
       "7        env7   16.121000   53.145000   128.742667          198.552333   \n",
       "8        env8   18.055000   99.588333   166.982333          344.445333   \n",
       "9        env9   15.953333   53.782667   127.453333          198.469333   \n",
       "\n",
       "  g_CNN_time g_DNN_time g_transformer_time  g_LSTM_time  \n",
       "0        NaN        NaN                NaN          NaN  \n",
       "1        NaN        NaN                NaN          NaN  \n",
       "2        NaN        NaN                NaN          NaN  \n",
       "3        NaN        NaN                NaN          NaN  \n",
       "4        NaN        NaN                NaN          NaN  \n",
       "5        NaN        NaN                NaN          NaN  \n",
       "6        NaN        NaN                NaN          NaN  \n",
       "7        NaN        NaN                NaN          NaN  \n",
       "8        NaN        NaN                NaN          NaN  \n",
       "9        NaN        NaN                NaN          NaN  "
      ]
     },
     "execution_count": 22,
     "metadata": {},
     "output_type": "execute_result"
    }
   ],
   "source": [
    "\"\"\" Filter out the non-aws environments \"\"\"\n",
    "aws = mean_trials.reset_index()[~mean_trials.reset_index()[\"Environment\"].str.contains(\"datahub\")]\n",
    "aws = aws.reset_index(drop=True)\n",
    "aws"
   ]
  },
  {
   "cell_type": "markdown",
   "id": "6f31b8e9",
   "metadata": {},
   "source": [
    "## Experiment 1 - Scaling vCPU and CPU memory\n",
    "Recall that env1-env4 are the exact same systems, just with gradually and equally scaling vcpus and cpu memory."
   ]
  },
  {
   "cell_type": "code",
   "execution_count": 23,
   "id": "4d67afda",
   "metadata": {},
   "outputs": [
    {
     "data": {
      "text/html": [
       "<div>\n",
       "<style scoped>\n",
       "    .dataframe tbody tr th:only-of-type {\n",
       "        vertical-align: middle;\n",
       "    }\n",
       "\n",
       "    .dataframe tbody tr th {\n",
       "        vertical-align: top;\n",
       "    }\n",
       "\n",
       "    .dataframe thead th {\n",
       "        text-align: right;\n",
       "    }\n",
       "</style>\n",
       "<table border=\"1\" class=\"dataframe\">\n",
       "  <thead>\n",
       "    <tr style=\"text-align: right;\">\n",
       "      <th></th>\n",
       "      <th>c_CNN_time</th>\n",
       "      <th>c_DNN_time</th>\n",
       "      <th>c_LSTM_time</th>\n",
       "      <th>c_transformer_time</th>\n",
       "      <th>Instance</th>\n",
       "    </tr>\n",
       "    <tr>\n",
       "      <th>Environment</th>\n",
       "      <th></th>\n",
       "      <th></th>\n",
       "      <th></th>\n",
       "      <th></th>\n",
       "      <th></th>\n",
       "    </tr>\n",
       "  </thead>\n",
       "  <tbody>\n",
       "    <tr>\n",
       "      <th>env1</th>\n",
       "      <td>32.905333</td>\n",
       "      <td>60.131333</td>\n",
       "      <td>171.158000</td>\n",
       "      <td>354.012333</td>\n",
       "      <td>c7a.medium</td>\n",
       "    </tr>\n",
       "    <tr>\n",
       "      <th>env2</th>\n",
       "      <td>15.298000</td>\n",
       "      <td>62.071333</td>\n",
       "      <td>107.221000</td>\n",
       "      <td>202.570667</td>\n",
       "      <td>c7a.large</td>\n",
       "    </tr>\n",
       "    <tr>\n",
       "      <th>env3</th>\n",
       "      <td>11.149000</td>\n",
       "      <td>60.549667</td>\n",
       "      <td>84.886333</td>\n",
       "      <td>137.881000</td>\n",
       "      <td>c7a.xlarge</td>\n",
       "    </tr>\n",
       "    <tr>\n",
       "      <th>env4</th>\n",
       "      <td>11.236000</td>\n",
       "      <td>62.637000</td>\n",
       "      <td>82.290667</td>\n",
       "      <td>81.375333</td>\n",
       "      <td>c7a.2xlarge</td>\n",
       "    </tr>\n",
       "  </tbody>\n",
       "</table>\n",
       "</div>"
      ],
      "text/plain": [
       "             c_CNN_time  c_DNN_time  c_LSTM_time  c_transformer_time  \\\n",
       "Environment                                                            \n",
       "env1          32.905333   60.131333   171.158000          354.012333   \n",
       "env2          15.298000   62.071333   107.221000          202.570667   \n",
       "env3          11.149000   60.549667    84.886333          137.881000   \n",
       "env4          11.236000   62.637000    82.290667           81.375333   \n",
       "\n",
       "                Instance  \n",
       "Environment               \n",
       "env1          c7a.medium  \n",
       "env2           c7a.large  \n",
       "env3          c7a.xlarge  \n",
       "env4         c7a.2xlarge  "
      ]
     },
     "execution_count": 23,
     "metadata": {},
     "output_type": "execute_result"
    }
   ],
   "source": [
    "\"\"\" Data Relevant to Experiment 1 \"\"\"\n",
    "\n",
    "exp1 = aws[aws[\"Environment\"].isin([\"env1\",\"env2\",\"env3\",\"env4\"])].iloc[:,:5]\n",
    "exp1 = exp1.set_index(\"Environment\")\n",
    "exp1[\"Instance\"] = env_data[\"Instance\"]\n",
    "exp1"
   ]
  },
  {
   "cell_type": "code",
   "execution_count": 24,
   "id": "8ae4f52e",
   "metadata": {},
   "outputs": [
    {
     "data": {
      "text/html": [
       "<div>\n",
       "<style scoped>\n",
       "    .dataframe tbody tr th:only-of-type {\n",
       "        vertical-align: middle;\n",
       "    }\n",
       "\n",
       "    .dataframe tbody tr th {\n",
       "        vertical-align: top;\n",
       "    }\n",
       "\n",
       "    .dataframe thead th {\n",
       "        text-align: right;\n",
       "    }\n",
       "</style>\n",
       "<table border=\"1\" class=\"dataframe\">\n",
       "  <thead>\n",
       "    <tr style=\"text-align: right;\">\n",
       "      <th></th>\n",
       "      <th>vcpu</th>\n",
       "      <th>cpu_mem (GiB)</th>\n",
       "      <th>cpu_type</th>\n",
       "    </tr>\n",
       "    <tr>\n",
       "      <th>Instance</th>\n",
       "      <th></th>\n",
       "      <th></th>\n",
       "      <th></th>\n",
       "    </tr>\n",
       "  </thead>\n",
       "  <tbody>\n",
       "    <tr>\n",
       "      <th>c7a.medium</th>\n",
       "      <td>1</td>\n",
       "      <td>2.0</td>\n",
       "      <td>AMD EPYC Gen4</td>\n",
       "    </tr>\n",
       "    <tr>\n",
       "      <th>c7a.large</th>\n",
       "      <td>2</td>\n",
       "      <td>4.0</td>\n",
       "      <td>AMD EPYC Gen4</td>\n",
       "    </tr>\n",
       "    <tr>\n",
       "      <th>c7a.xlarge</th>\n",
       "      <td>4</td>\n",
       "      <td>8.0</td>\n",
       "      <td>AMD EPYC Gen4</td>\n",
       "    </tr>\n",
       "    <tr>\n",
       "      <th>c7a.2xlarge</th>\n",
       "      <td>8</td>\n",
       "      <td>16.0</td>\n",
       "      <td>AMD EPYC Gen4</td>\n",
       "    </tr>\n",
       "  </tbody>\n",
       "</table>\n",
       "</div>"
      ],
      "text/plain": [
       "             vcpu  cpu_mem (GiB)       cpu_type\n",
       "Instance                                       \n",
       "c7a.medium      1            2.0  AMD EPYC Gen4\n",
       "c7a.large       2            4.0  AMD EPYC Gen4\n",
       "c7a.xlarge      4            8.0  AMD EPYC Gen4\n",
       "c7a.2xlarge     8           16.0  AMD EPYC Gen4"
      ]
     },
     "metadata": {},
     "output_type": "display_data"
    },
    {
     "data": {
      "image/png": "[encoded data removed]",
      "text/plain": [
       "<Figure size 1500x1500 with 4 Axes>"
      ]
     },
     "metadata": {},
     "output_type": "display_data"
    }
   ],
   "source": [
    "e1_legend = env_data[env_data.index.isin([\"env1\",\"env2\",\"env3\",\"env4\"])].iloc[:,:4]\n",
    "e1_legend = e1_legend.reset_index(drop=True).set_index(\"Instance\")\n",
    "display(e1_legend)\n",
    "\n",
    "fig, axs = plt.subplots(2, 2, figsize=(15, 15))\n",
    "\n",
    "sns.barplot(exp1, x=\"Instance\", y=\"c_CNN_time\", ax=axs[0][0]);\n",
    "axs[0][0].set_ylabel('CPU Runtime (ms)', size=15)\n",
    "axs[0][0].set_xlabel('Instance', size=15);\n",
    "axs[0][0].set_title('CNN', size=20);\n",
    "\n",
    "sns.barplot(exp1, x=\"Instance\", y=\"c_DNN_time\", ax=axs[0][1]);\n",
    "axs[0][1].set_ylabel('CPU Runtime (ms)', size=15)\n",
    "axs[0][1].set_xlabel('Instance', size=15);\n",
    "axs[0][1].set_title('DNN', size=20);\n",
    "\n",
    "sns.barplot(exp1, x=\"Instance\", y=\"c_LSTM_time\", ax=axs[1][0]);\n",
    "axs[1][0].set_ylabel('CPU Runtime (ms)', size=15)\n",
    "axs[1][0].set_xlabel('Instance', size=15);\n",
    "axs[1][0].set_title('LSTM', size=20);\n",
    "\n",
    "sns.barplot(exp1, x=\"Instance\", y=\"c_transformer_time\", ax=axs[1][1]);\n",
    "axs[1][1].set_ylabel('CPU Runtime (ms)', size=15)\n",
    "axs[1][1].set_xlabel('Instance', size=15);\n",
    "axs[1][1].set_title('Transformer', size=20);"
   ]
  },
  {
   "cell_type": "code",
   "execution_count": 25,
   "id": "f4dd56ae",
   "metadata": {},
   "outputs": [
    {
     "name": "stderr",
     "output_type": "stream",
     "text": [
      "/tmp/ipykernel_1183629/2959090384.py:16: UserWarning:\n",
      "\n",
      "FixedFormatter should only be used together with FixedLocator\n",
      "\n"
     ]
    },
    {
     "data": {
      "image/png": "[encoded data removed]",
      "text/plain": [
       "<Figure size 800x500 with 1 Axes>"
      ]
     },
     "metadata": {},
     "output_type": "display_data"
    }
   ],
   "source": [
    "# put all four plots on the same plot, use line instead\n",
    "# make the plot smaller\n",
    "# add the dots  \n",
    "fig, axs = plt.subplots(1, 1, figsize=(8, 5))\n",
    "sns.lineplot(data=exp1, x=\"Instance\", y=\"c_CNN_time\", marker=\"o\", label=\"CNN\", color=\"#003049\", linewidth=2.5);\n",
    "sns.lineplot(data=exp1, x=\"Instance\", y=\"c_DNN_time\", marker=\"o\", label=\"DNN\", color=\"#D62828\", linewidth=2.5);\n",
    "sns.lineplot(data=exp1, x=\"Instance\", y=\"c_LSTM_time\", marker=\"o\", label=\"LSTM\", color=\"#F77F00\", linewidth=2.5);\n",
    "sns.lineplot(data=exp1, x=\"Instance\", y=\"c_T_time\", marker=\"o\", label=\"Transformer\", color=\"#FCBF49\", linewidth=2.5);\n",
    "\n",
    "\n",
    "\n",
    "# bold the labels and the title\n",
    "plt.ylabel('CPU Runtime (ms)', fontweight='bold')\n",
    "plt.xlabel('Number of Virtual CPU Cores', fontweight='bold')\n",
    "plt.title('Runtime on Different Virtual CPU Cores', fontweight='bold', fontsize=15)\n",
    "axs.set_xticklabels(e1_legend.apply(lambda row: f\"{row[0]}\", axis=1))\n",
    "plt.legend()\n",
    "# get rid the plot frame and keep the x and y axis\n",
    "sns.despine()\n",
    "\n",
    "plt.grid(axis='y', linestyle='dotted', alpha=0.45);\n",
    "\n",
    "# smaller margin\n",
    "plt.margins(0.06)\n",
    "plt.savefig('runtime_vcpu.png', dpi=1000)\n",
    "plt.show()"
   ]
  },
  {
   "cell_type": "code",
   "execution_count": 51,
   "id": "c941c405",
   "metadata": {},
   "outputs": [
    {
     "data": {
      "application/vnd.plotly.v1+json": {
       "config": {
        "plotlyServerURL": "https://plot.ly"
       },
       "data": [
        {
         "marker": {
          "color": "#003049"
         },
         "mode": "lines+markers",
         "name": "CNN",
         "type": "scatter",
         "x": [
          1,
          2,
          4,
          8
         ],
         "y": [
          32.90533333333333,
          15.298,
          11.149000000000001,
          11.235999999999999
         ]
        },
        {
         "marker": {
          "color": "#D62828"
         },
         "mode": "lines+markers",
         "name": "DNN",
         "type": "scatter",
         "x": [
          1,
          2,
          4,
          8
         ],
         "y": [
          60.13133333333334,
          62.071333333333335,
          60.54966666666667,
          62.637
         ]
        },
        {
         "marker": {
          "color": "#F77F00"
         },
         "mode": "lines+markers",
         "name": "LSTM",
         "type": "scatter",
         "x": [
          1,
          2,
          4,
          8
         ],
         "y": [
          171.15800000000002,
          107.221,
          84.88633333333333,
          82.29066666666667
         ]
        },
        {
         "marker": {
          "color": "#FCBF49"
         },
         "mode": "lines+markers",
         "name": "Transformer",
         "type": "scatter",
         "x": [
          1,
          2,
          4,
          8
         ],
         "y": [
          354.01233333333334,
          202.57066666666665,
          137.881,
          81.37533333333333
         ]
        }
       ],
       "layout": {
        "template": {
         "data": {
          "bar": [
           {
            "error_x": {
             "color": "#2a3f5f"
            },
            "error_y": {
             "color": "#2a3f5f"
            },
            "marker": {
             "line": {
              "color": "#E5ECF6",
              "width": 0.5
             },
             "pattern": {
              "fillmode": "overlay",
              "size": 10,
              "solidity": 0.2
             }
            },
            "type": "bar"
           }
          ],
          "barpolar": [
           {
            "marker": {
             "line": {
              "color": "#E5ECF6",
              "width": 0.5
             },
             "pattern": {
              "fillmode": "overlay",
              "size": 10,
              "solidity": 0.2
             }
            },
            "type": "barpolar"
           }
          ],
          "carpet": [
           {
            "aaxis": {
             "endlinecolor": "#2a3f5f",
             "gridcolor": "white",
             "linecolor": "white",
             "minorgridcolor": "white",
             "startlinecolor": "#2a3f5f"
            },
            "baxis": {
             "endlinecolor": "#2a3f5f",
             "gridcolor": "white",
             "linecolor": "white",
             "minorgridcolor": "white",
             "startlinecolor": "#2a3f5f"
            },
            "type": "carpet"
           }
          ],
          "choropleth": [
           {
            "colorbar": {
             "outlinewidth": 0,
             "ticks": ""
            },
            "type": "choropleth"
           }
          ],
          "contour": [
           {
            "colorbar": {
             "outlinewidth": 0,
             "ticks": ""
            },
            "colorscale": [
             [
              0,
              "#0d0887"
             ],
             [
              0.1111111111111111,
              "#46039f"
             ],
             [
              0.2222222222222222,
              "#7201a8"
             ],
             [
              0.3333333333333333,
              "#9c179e"
             ],
             [
              0.4444444444444444,
              "#bd3786"
             ],
             [
              0.5555555555555556,
              "#d8576b"
             ],
             [
              0.6666666666666666,
              "#ed7953"
             ],
             [
              0.7777777777777778,
              "#fb9f3a"
             ],
             [
              0.8888888888888888,
              "#fdca26"
             ],
             [
              1,
              "#f0f921"
             ]
            ],
            "type": "contour"
           }
          ],
          "contourcarpet": [
           {
            "colorbar": {
             "outlinewidth": 0,
             "ticks": ""
            },
            "type": "contourcarpet"
           }
          ],
          "heatmap": [
           {
            "colorbar": {
             "outlinewidth": 0,
             "ticks": ""
            },
            "colorscale": [
             [
              0,
              "#0d0887"
             ],
             [
              0.1111111111111111,
              "#46039f"
             ],
             [
              0.2222222222222222,
              "#7201a8"
             ],
             [
              0.3333333333333333,
              "#9c179e"
             ],
             [
              0.4444444444444444,
              "#bd3786"
             ],
             [
              0.5555555555555556,
              "#d8576b"
             ],
             [
              0.6666666666666666,
              "#ed7953"
             ],
             [
              0.7777777777777778,
              "#fb9f3a"
             ],
             [
              0.8888888888888888,
              "#fdca26"
             ],
             [
              1,
              "#f0f921"
             ]
            ],
            "type": "heatmap"
           }
          ],
          "heatmapgl": [
           {
            "colorbar": {
             "outlinewidth": 0,
             "ticks": ""
            },
            "colorscale": [
             [
              0,
              "#0d0887"
             ],
             [
              0.1111111111111111,
              "#46039f"
             ],
             [
              0.2222222222222222,
              "#7201a8"
             ],
             [
              0.3333333333333333,
              "#9c179e"
             ],
             [
              0.4444444444444444,
              "#bd3786"
             ],
             [
              0.5555555555555556,
              "#d8576b"
             ],
             [
              0.6666666666666666,
              "#ed7953"
             ],
             [
              0.7777777777777778,
              "#fb9f3a"
             ],
             [
              0.8888888888888888,
              "#fdca26"
             ],
             [
              1,
              "#f0f921"
             ]
            ],
            "type": "heatmapgl"
           }
          ],
          "histogram": [
           {
            "marker": {
             "pattern": {
              "fillmode": "overlay",
              "size": 10,
              "solidity": 0.2
             }
            },
            "type": "histogram"
           }
          ],
          "histogram2d": [
           {
            "colorbar": {
             "outlinewidth": 0,
             "ticks": ""
            },
            "colorscale": [
             [
              0,
              "#0d0887"
             ],
             [
              0.1111111111111111,
              "#46039f"
             ],
             [
              0.2222222222222222,
              "#7201a8"
             ],
             [
              0.3333333333333333,
              "#9c179e"
             ],
             [
              0.4444444444444444,
              "#bd3786"
             ],
             [
              0.5555555555555556,
              "#d8576b"
             ],
             [
              0.6666666666666666,
              "#ed7953"
             ],
             [
              0.7777777777777778,
              "#fb9f3a"
             ],
             [
              0.8888888888888888,
              "#fdca26"
             ],
             [
              1,
              "#f0f921"
             ]
            ],
            "type": "histogram2d"
           }
          ],
          "histogram2dcontour": [
           {
            "colorbar": {
             "outlinewidth": 0,
             "ticks": ""
            },
            "colorscale": [
             [
              0,
              "#0d0887"
             ],
             [
              0.1111111111111111,
              "#46039f"
             ],
             [
              0.2222222222222222,
              "#7201a8"
             ],
             [
              0.3333333333333333,
              "#9c179e"
             ],
             [
              0.4444444444444444,
              "#bd3786"
             ],
             [
              0.5555555555555556,
              "#d8576b"
             ],
             [
              0.6666666666666666,
              "#ed7953"
             ],
             [
              0.7777777777777778,
              "#fb9f3a"
             ],
             [
              0.8888888888888888,
              "#fdca26"
             ],
             [
              1,
              "#f0f921"
             ]
            ],
            "type": "histogram2dcontour"
           }
          ],
          "mesh3d": [
           {
            "colorbar": {
             "outlinewidth": 0,
             "ticks": ""
            },
            "type": "mesh3d"
           }
          ],
          "parcoords": [
           {
            "line": {
             "colorbar": {
              "outlinewidth": 0,
              "ticks": ""
             }
            },
            "type": "parcoords"
           }
          ],
          "pie": [
           {
            "automargin": true,
            "type": "pie"
           }
          ],
          "scatter": [
           {
            "fillpattern": {
             "fillmode": "overlay",
             "size": 10,
             "solidity": 0.2
            },
            "type": "scatter"
           }
          ],
          "scatter3d": [
           {
            "line": {
             "colorbar": {
              "outlinewidth": 0,
              "ticks": ""
             }
            },
            "marker": {
             "colorbar": {
              "outlinewidth": 0,
              "ticks": ""
             }
            },
            "type": "scatter3d"
           }
          ],
          "scattercarpet": [
           {
            "marker": {
             "colorbar": {
              "outlinewidth": 0,
              "ticks": ""
             }
            },
            "type": "scattercarpet"
           }
          ],
          "scattergeo": [
           {
            "marker": {
             "colorbar": {
              "outlinewidth": 0,
              "ticks": ""
             }
            },
            "type": "scattergeo"
           }
          ],
          "scattergl": [
           {
            "marker": {
             "colorbar": {
              "outlinewidth": 0,
              "ticks": ""
             }
            },
            "type": "scattergl"
           }
          ],
          "scattermapbox": [
           {
            "marker": {
             "colorbar": {
              "outlinewidth": 0,
              "ticks": ""
             }
            },
            "type": "scattermapbox"
           }
          ],
          "scatterpolar": [
           {
            "marker": {
             "colorbar": {
              "outlinewidth": 0,
              "ticks": ""
             }
            },
            "type": "scatterpolar"
           }
          ],
          "scatterpolargl": [
           {
            "marker": {
             "colorbar": {
              "outlinewidth": 0,
              "ticks": ""
             }
            },
            "type": "scatterpolargl"
           }
          ],
          "scatterternary": [
           {
            "marker": {
             "colorbar": {
              "outlinewidth": 0,
              "ticks": ""
             }
            },
            "type": "scatterternary"
           }
          ],
          "surface": [
           {
            "colorbar": {
             "outlinewidth": 0,
             "ticks": ""
            },
            "colorscale": [
             [
              0,
              "#0d0887"
             ],
             [
              0.1111111111111111,
              "#46039f"
             ],
             [
              0.2222222222222222,
              "#7201a8"
             ],
             [
              0.3333333333333333,
              "#9c179e"
             ],
             [
              0.4444444444444444,
              "#bd3786"
             ],
             [
              0.5555555555555556,
              "#d8576b"
             ],
             [
              0.6666666666666666,
              "#ed7953"
             ],
             [
              0.7777777777777778,
              "#fb9f3a"
             ],
             [
              0.8888888888888888,
              "#fdca26"
             ],
             [
              1,
              "#f0f921"
             ]
            ],
            "type": "surface"
           }
          ],
          "table": [
           {
            "cells": {
             "fill": {
              "color": "#EBF0F8"
             },
             "line": {
              "color": "white"
             }
            },
            "header": {
             "fill": {
              "color": "#C8D4E3"
             },
             "line": {
              "color": "white"
             }
            },
            "type": "table"
           }
          ]
         },
         "layout": {
          "annotationdefaults": {
           "arrowcolor": "#2a3f5f",
           "arrowhead": 0,
           "arrowwidth": 1
          },
          "autotypenumbers": "strict",
          "coloraxis": {
           "colorbar": {
            "outlinewidth": 0,
            "ticks": ""
           }
          },
          "colorscale": {
           "diverging": [
            [
             0,
             "#8e0152"
            ],
            [
             0.1,
             "#c51b7d"
            ],
            [
             0.2,
             "#de77ae"
            ],
            [
             0.3,
             "#f1b6da"
            ],
            [
             0.4,
             "#fde0ef"
            ],
            [
             0.5,
             "#f7f7f7"
            ],
            [
             0.6,
             "#e6f5d0"
            ],
            [
             0.7,
             "#b8e186"
            ],
            [
             0.8,
             "#7fbc41"
            ],
            [
             0.9,
             "#4d9221"
            ],
            [
             1,
             "#276419"
            ]
           ],
           "sequential": [
            [
             0,
             "#0d0887"
            ],
            [
             0.1111111111111111,
             "#46039f"
            ],
            [
             0.2222222222222222,
             "#7201a8"
            ],
            [
             0.3333333333333333,
             "#9c179e"
            ],
            [
             0.4444444444444444,
             "#bd3786"
            ],
            [
             0.5555555555555556,
             "#d8576b"
            ],
            [
             0.6666666666666666,
             "#ed7953"
            ],
            [
             0.7777777777777778,
             "#fb9f3a"
            ],
            [
             0.8888888888888888,
             "#fdca26"
            ],
            [
             1,
             "#f0f921"
            ]
           ],
           "sequentialminus": [
            [
             0,
             "#0d0887"
            ],
            [
             0.1111111111111111,
             "#46039f"
            ],
            [
             0.2222222222222222,
             "#7201a8"
            ],
            [
             0.3333333333333333,
             "#9c179e"
            ],
            [
             0.4444444444444444,
             "#bd3786"
            ],
            [
             0.5555555555555556,
             "#d8576b"
            ],
            [
             0.6666666666666666,
             "#ed7953"
            ],
            [
             0.7777777777777778,
             "#fb9f3a"
            ],
            [
             0.8888888888888888,
             "#fdca26"
            ],
            [
             1,
             "#f0f921"
            ]
           ]
          },
          "colorway": [
           "#636efa",
           "#EF553B",
           "#00cc96",
           "#ab63fa",
           "#FFA15A",
           "#19d3f3",
           "#FF6692",
           "#B6E880",
           "#FF97FF",
           "#FECB52"
          ],
          "font": {
           "color": "#2a3f5f"
          },
          "geo": {
           "bgcolor": "white",
           "lakecolor": "white",
           "landcolor": "#E5ECF6",
           "showlakes": true,
           "showland": true,
           "subunitcolor": "white"
          },
          "hoverlabel": {
           "align": "left"
          },
          "hovermode": "closest",
          "mapbox": {
           "style": "light"
          },
          "paper_bgcolor": "white",
          "plot_bgcolor": "#E5ECF6",
          "polar": {
           "angularaxis": {
            "gridcolor": "white",
            "linecolor": "white",
            "ticks": ""
           },
           "bgcolor": "#E5ECF6",
           "radialaxis": {
            "gridcolor": "white",
            "linecolor": "white",
            "ticks": ""
           }
          },
          "scene": {
           "xaxis": {
            "backgroundcolor": "#E5ECF6",
            "gridcolor": "white",
            "gridwidth": 2,
            "linecolor": "white",
            "showbackground": true,
            "ticks": "",
            "zerolinecolor": "white"
           },
           "yaxis": {
            "backgroundcolor": "#E5ECF6",
            "gridcolor": "white",
            "gridwidth": 2,
            "linecolor": "white",
            "showbackground": true,
            "ticks": "",
            "zerolinecolor": "white"
           },
           "zaxis": {
            "backgroundcolor": "#E5ECF6",
            "gridcolor": "white",
            "gridwidth": 2,
            "linecolor": "white",
            "showbackground": true,
            "ticks": "",
            "zerolinecolor": "white"
           }
          },
          "shapedefaults": {
           "line": {
            "color": "#2a3f5f"
           }
          },
          "ternary": {
           "aaxis": {
            "gridcolor": "white",
            "linecolor": "white",
            "ticks": ""
           },
           "baxis": {
            "gridcolor": "white",
            "linecolor": "white",
            "ticks": ""
           },
           "bgcolor": "#E5ECF6",
           "caxis": {
            "gridcolor": "white",
            "linecolor": "white",
            "ticks": ""
           }
          },
          "title": {
           "x": 0.05
          },
          "xaxis": {
           "automargin": true,
           "gridcolor": "white",
           "linecolor": "white",
           "ticks": "",
           "title": {
            "standoff": 15
           },
           "zerolinecolor": "white",
           "zerolinewidth": 2
          },
          "yaxis": {
           "automargin": true,
           "gridcolor": "white",
           "linecolor": "white",
           "ticks": "",
           "title": {
            "standoff": 15
           },
           "zerolinecolor": "white",
           "zerolinewidth": 2
          }
         }
        },
        "title": {
         "font": {
          "family": "Arial",
          "size": 20
         },
         "text": "Runtime on Different Virtual CPU Cores"
        },
        "xaxis": {
         "tickfont": {
          "size": 14
         },
         "title": {
          "font": {
           "family": "Arial",
           "size": 18
          },
          "text": "Number of Virtual CPU Cores"
         }
        },
        "yaxis": {
         "tickfont": {
          "size": 14
         },
         "title": {
          "font": {
           "family": "Arial",
           "size": 18
          },
          "text": "Runtime (ms)"
         }
        }
       }
      }
     },
     "metadata": {},
     "output_type": "display_data"
    }
   ],
   "source": [
    "# create the same plot as the cell above but in plotly\n",
    "fig = go.Figure()\n",
    "\n",
    "fig.add_trace(go.Scatter(x=e1_legend['vcpu'], y=exp1['c_CNN_time'], mode='lines+markers', name='CNN', marker_color='#003049'))\n",
    "fig.add_trace(go.Scatter(x=e1_legend['vcpu'], y=exp1['c_DNN_time'], mode='lines+markers', name='DNN', marker_color='#D62828'))\n",
    "fig.add_trace(go.Scatter(x=e1_legend['vcpu'], y=exp1['c_LSTM_time'], mode='lines+markers', name='LSTM', marker_color='#F77F00'))\n",
    "fig.add_trace(go.Scatter(x=e1_legend['vcpu'], y=exp1['c_T_time'], mode='lines+markers', name='Transformer', marker_color='#FCBF49'))\n",
    "\n",
    "fig.update_layout(\n",
    "    title='Runtime on Different Virtual CPU Cores',\n",
    "    xaxis=dict(\n",
    "        title='Number of Virtual CPU Cores',\n",
    "        titlefont_size=16,\n",
    "        tickfont_size=14,\n",
    "    ),\n",
    "    yaxis=dict(\n",
    "        title='Runtime (ms)',\n",
    "        titlefont_size=16,\n",
    "        tickfont_size=14,\n",
    "    )\n",
    ")\n",
    "\n",
    "# bold the title and axis\n",
    "fig.update_layout(title_font_size=20, title_font_family='Arial')\n",
    "fig.update_xaxes(title_font_size=18, title_font_family='Arial')\n",
    "fig.update_yaxes(title_font_size=18, title_font_family='Arial')\n",
    "\n",
    "fig.show()\n",
    "\n",
    "fig.write_html(\"docs/runtime_vcpu.html\")"
   ]
  },
  {
   "cell_type": "code",
   "execution_count": 52,
   "id": "a9371bda",
   "metadata": {},
   "outputs": [
    {
     "data": {
      "text/plain": [
       "Instance\n",
       "c7a.medium      vcpu: 1, mem (GiB): 2.0\n",
       "c7a.large       vcpu: 2, mem (GiB): 4.0\n",
       "c7a.xlarge      vcpu: 4, mem (GiB): 8.0\n",
       "c7a.2xlarge    vcpu: 8, mem (GiB): 16.0\n",
       "dtype: object"
      ]
     },
     "execution_count": 52,
     "metadata": {},
     "output_type": "execute_result"
    }
   ],
   "source": [
    "e1_legend.apply(lambda row: f\"vcpu: {row[0]}, mem (GiB): {row[1]}\", axis=1)"
   ]
  },
  {
   "cell_type": "markdown",
   "id": "4581e4ff",
   "metadata": {},
   "source": [
    "It seems that for all the models except the DNN, the runtime got better as we scaled up the CPU specs. For the LSTM and CNN, we see a miniscule time gain between the last two environments.\n",
    "\n",
    "The DNN model saw no correlation between CPU specs and runtime."
   ]
  },
  {
   "cell_type": "markdown",
   "id": "d2ba00fe",
   "metadata": {},
   "source": [
    "## Experiment 2 - Scaling CPU memory\n",
    "Recall that env5-env7 all have the same CPU type with 4 virtual CPUs.\n",
    "\n",
    "In exp2 we will increasingly scale the CPU memory."
   ]
  },
  {
   "cell_type": "code",
   "execution_count": 15,
   "id": "e463a751",
   "metadata": {},
   "outputs": [
    {
     "data": {
      "text/html": [
       "<div>\n",
       "<style scoped>\n",
       "    .dataframe tbody tr th:only-of-type {\n",
       "        vertical-align: middle;\n",
       "    }\n",
       "\n",
       "    .dataframe tbody tr th {\n",
       "        vertical-align: top;\n",
       "    }\n",
       "\n",
       "    .dataframe thead th {\n",
       "        text-align: right;\n",
       "    }\n",
       "</style>\n",
       "<table border=\"1\" class=\"dataframe\">\n",
       "  <thead>\n",
       "    <tr style=\"text-align: right;\">\n",
       "      <th></th>\n",
       "      <th>c_CNN_time</th>\n",
       "      <th>c_DNN_time</th>\n",
       "      <th>c_LSTM_time</th>\n",
       "      <th>c_transformer_time</th>\n",
       "      <th>Instance</th>\n",
       "    </tr>\n",
       "    <tr>\n",
       "      <th>Environment</th>\n",
       "      <th></th>\n",
       "      <th></th>\n",
       "      <th></th>\n",
       "      <th></th>\n",
       "      <th></th>\n",
       "    </tr>\n",
       "  </thead>\n",
       "  <tbody>\n",
       "    <tr>\n",
       "      <th>env5</th>\n",
       "      <td>15.917667</td>\n",
       "      <td>66.314667</td>\n",
       "      <td>156.302333</td>\n",
       "      <td>221.103333</td>\n",
       "      <td>c6i.xlarge</td>\n",
       "    </tr>\n",
       "    <tr>\n",
       "      <th>env6</th>\n",
       "      <td>19.288667</td>\n",
       "      <td>66.089667</td>\n",
       "      <td>159.871667</td>\n",
       "      <td>240.147667</td>\n",
       "      <td>m6i.xlarge</td>\n",
       "    </tr>\n",
       "    <tr>\n",
       "      <th>env7</th>\n",
       "      <td>16.121000</td>\n",
       "      <td>53.145000</td>\n",
       "      <td>128.742667</td>\n",
       "      <td>198.552333</td>\n",
       "      <td>r6i.xlarge</td>\n",
       "    </tr>\n",
       "  </tbody>\n",
       "</table>\n",
       "</div>"
      ],
      "text/plain": [
       "             c_CNN_time  c_DNN_time  c_LSTM_time  c_transformer_time  \\\n",
       "Environment                                                            \n",
       "env5          15.917667   66.314667   156.302333          221.103333   \n",
       "env6          19.288667   66.089667   159.871667          240.147667   \n",
       "env7          16.121000   53.145000   128.742667          198.552333   \n",
       "\n",
       "               Instance  \n",
       "Environment              \n",
       "env5         c6i.xlarge  \n",
       "env6         m6i.xlarge  \n",
       "env7         r6i.xlarge  "
      ]
     },
     "execution_count": 15,
     "metadata": {},
     "output_type": "execute_result"
    }
   ],
   "source": [
    "\"\"\" Data Relevant to Experiment 2 \"\"\"\n",
    "\n",
    "exp2 = aws[aws[\"Environment\"].isin([\"env5\",\"env6\",\"env7\"])].iloc[:,:5]\n",
    "exp2 = exp2.set_index(\"Environment\")\n",
    "exp2[\"Instance\"] = env_data[\"Instance\"]\n",
    "exp2"
   ]
  },
  {
   "cell_type": "code",
   "execution_count": 16,
   "id": "18bb4e68",
   "metadata": {},
   "outputs": [
    {
     "data": {
      "text/html": [
       "<div>\n",
       "<style scoped>\n",
       "    .dataframe tbody tr th:only-of-type {\n",
       "        vertical-align: middle;\n",
       "    }\n",
       "\n",
       "    .dataframe tbody tr th {\n",
       "        vertical-align: top;\n",
       "    }\n",
       "\n",
       "    .dataframe thead th {\n",
       "        text-align: right;\n",
       "    }\n",
       "</style>\n",
       "<table border=\"1\" class=\"dataframe\">\n",
       "  <thead>\n",
       "    <tr style=\"text-align: right;\">\n",
       "      <th></th>\n",
       "      <th>vcpu</th>\n",
       "      <th>cpu_mem (GiB)</th>\n",
       "      <th>cpu_type</th>\n",
       "    </tr>\n",
       "    <tr>\n",
       "      <th>Instance</th>\n",
       "      <th></th>\n",
       "      <th></th>\n",
       "      <th></th>\n",
       "    </tr>\n",
       "  </thead>\n",
       "  <tbody>\n",
       "    <tr>\n",
       "      <th>c6i.xlarge</th>\n",
       "      <td>4</td>\n",
       "      <td>8.0</td>\n",
       "      <td>Intel Xeon 8375C (Ice Lake)</td>\n",
       "    </tr>\n",
       "    <tr>\n",
       "      <th>m6i.xlarge</th>\n",
       "      <td>4</td>\n",
       "      <td>16.0</td>\n",
       "      <td>Intel Xeon 8375C (Ice Lake)</td>\n",
       "    </tr>\n",
       "    <tr>\n",
       "      <th>r6i.xlarge</th>\n",
       "      <td>4</td>\n",
       "      <td>32.0</td>\n",
       "      <td>Intel Xeon 8375C (Ice Lake)</td>\n",
       "    </tr>\n",
       "  </tbody>\n",
       "</table>\n",
       "</div>"
      ],
      "text/plain": [
       "            vcpu  cpu_mem (GiB)                     cpu_type\n",
       "Instance                                                    \n",
       "c6i.xlarge     4            8.0  Intel Xeon 8375C (Ice Lake)\n",
       "m6i.xlarge     4           16.0  Intel Xeon 8375C (Ice Lake)\n",
       "r6i.xlarge     4           32.0  Intel Xeon 8375C (Ice Lake)"
      ]
     },
     "metadata": {},
     "output_type": "display_data"
    },
    {
     "data": {
      "image/png": "[encoded data removed]",
      "text/plain": [
       "<Figure size 1500x1500 with 4 Axes>"
      ]
     },
     "metadata": {},
     "output_type": "display_data"
    }
   ],
   "source": [
    "e2_legend = env_data[env_data.index.isin([\"env5\",\"env6\",\"env7\"])].iloc[:,:4]\n",
    "e2_legend = e2_legend.reset_index(drop=True).set_index(\"Instance\")\n",
    "display(e2_legend)\n",
    "\n",
    "fig, axs = plt.subplots(2, 2, figsize=(15, 15))\n",
    "\n",
    "sns.barplot(exp2, x=\"Instance\", y=\"c_CNN_time\", ax=axs[0][0]);\n",
    "axs[0][0].set_ylabel('CPU Runtime (ms)', size=15)\n",
    "axs[0][0].set_xlabel('Instance', size=15);\n",
    "axs[0][0].set_title('CNN', size=20);\n",
    "\n",
    "sns.barplot(exp2, x=\"Instance\", y=\"c_DNN_time\", ax=axs[0][1]);\n",
    "axs[0][1].set_ylabel('CPU Runtime (ms)', size=15)\n",
    "axs[0][1].set_xlabel('Instance', size=15);\n",
    "axs[0][1].set_title('DNN', size=20);\n",
    "\n",
    "sns.barplot(exp2, x=\"Instance\", y=\"c_LSTM_time\", ax=axs[1][0]);\n",
    "axs[1][0].set_ylabel('CPU Runtime (ms)', size=15)\n",
    "axs[1][0].set_xlabel('Instance', size=15);\n",
    "axs[1][0].set_title('LSTM', size=20);\n",
    "\n",
    "sns.barplot(exp2, x=\"Instance\", y=\"c_transformer_time\", ax=axs[1][1]);\n",
    "axs[1][1].set_ylabel('CPU Runtime (ms)', size=15)\n",
    "axs[1][1].set_xlabel('Instance', size=15);\n",
    "axs[1][1].set_title('Transformer', size=20);"
   ]
  },
  {
   "cell_type": "markdown",
   "id": "ff7efadc",
   "metadata": {},
   "source": [
    "Above, we see a very slight increase in performace. Still, all the models achieve optimal runtimes when CPU memory is maximal.\n",
    "\n",
    "Though, as we scale up to the second environment, sometimes we don't see any speed gains at all"
   ]
  },
  {
   "cell_type": "markdown",
   "id": "32e6681d",
   "metadata": {},
   "source": [
    "## Experiment 3 - Scaling vCPUs\n",
    "Recall that env8-env10 hold CPU memory constant at 16.0 GiB.\n",
    "\n",
    "In exp3 we will increasingly scale the number of vCPUs."
   ]
  },
  {
   "cell_type": "code",
   "execution_count": 17,
   "id": "ffaee789",
   "metadata": {},
   "outputs": [
    {
     "data": {
      "text/html": [
       "<div>\n",
       "<style scoped>\n",
       "    .dataframe tbody tr th:only-of-type {\n",
       "        vertical-align: middle;\n",
       "    }\n",
       "\n",
       "    .dataframe tbody tr th {\n",
       "        vertical-align: top;\n",
       "    }\n",
       "\n",
       "    .dataframe thead th {\n",
       "        text-align: right;\n",
       "    }\n",
       "</style>\n",
       "<table border=\"1\" class=\"dataframe\">\n",
       "  <thead>\n",
       "    <tr style=\"text-align: right;\">\n",
       "      <th></th>\n",
       "      <th>c_CNN_time</th>\n",
       "      <th>c_DNN_time</th>\n",
       "      <th>c_LSTM_time</th>\n",
       "      <th>c_transformer_time</th>\n",
       "      <th>Instance</th>\n",
       "    </tr>\n",
       "    <tr>\n",
       "      <th>Environment</th>\n",
       "      <th></th>\n",
       "      <th></th>\n",
       "      <th></th>\n",
       "      <th></th>\n",
       "      <th></th>\n",
       "    </tr>\n",
       "  </thead>\n",
       "  <tbody>\n",
       "    <tr>\n",
       "      <th>env8</th>\n",
       "      <td>18.055000</td>\n",
       "      <td>99.588333</td>\n",
       "      <td>166.982333</td>\n",
       "      <td>344.445333</td>\n",
       "      <td>r6i.large</td>\n",
       "    </tr>\n",
       "    <tr>\n",
       "      <th>env9</th>\n",
       "      <td>15.953333</td>\n",
       "      <td>53.782667</td>\n",
       "      <td>127.453333</td>\n",
       "      <td>198.469333</td>\n",
       "      <td>m6i.xlarge</td>\n",
       "    </tr>\n",
       "    <tr>\n",
       "      <th>env10</th>\n",
       "      <td>14.390667</td>\n",
       "      <td>33.578667</td>\n",
       "      <td>112.524667</td>\n",
       "      <td>122.819000</td>\n",
       "      <td>c6i.2xlarge</td>\n",
       "    </tr>\n",
       "  </tbody>\n",
       "</table>\n",
       "</div>"
      ],
      "text/plain": [
       "             c_CNN_time  c_DNN_time  c_LSTM_time  c_transformer_time  \\\n",
       "Environment                                                            \n",
       "env8          18.055000   99.588333   166.982333          344.445333   \n",
       "env9          15.953333   53.782667   127.453333          198.469333   \n",
       "env10         14.390667   33.578667   112.524667          122.819000   \n",
       "\n",
       "                Instance  \n",
       "Environment               \n",
       "env8           r6i.large  \n",
       "env9          m6i.xlarge  \n",
       "env10        c6i.2xlarge  "
      ]
     },
     "execution_count": 17,
     "metadata": {},
     "output_type": "execute_result"
    }
   ],
   "source": [
    "\"\"\" Data Relevant to Experiment 3 \"\"\"\n",
    "\n",
    "exp3 = aws[aws[\"Environment\"].isin([\"env8\",\"env9\",\"env10\"])].iloc[:,:5]\n",
    "exp3 = exp3.set_index(\"Environment\")\n",
    "exp3[\"Instance\"] = env_data[\"Instance\"]\n",
    "exp3 = exp3.reindex([\"env8\", \"env9\", \"env10\"])\n",
    "exp3"
   ]
  },
  {
   "cell_type": "code",
   "execution_count": 18,
   "id": "501fd145",
   "metadata": {},
   "outputs": [
    {
     "data": {
      "text/html": [
       "<div>\n",
       "<style scoped>\n",
       "    .dataframe tbody tr th:only-of-type {\n",
       "        vertical-align: middle;\n",
       "    }\n",
       "\n",
       "    .dataframe tbody tr th {\n",
       "        vertical-align: top;\n",
       "    }\n",
       "\n",
       "    .dataframe thead th {\n",
       "        text-align: right;\n",
       "    }\n",
       "</style>\n",
       "<table border=\"1\" class=\"dataframe\">\n",
       "  <thead>\n",
       "    <tr style=\"text-align: right;\">\n",
       "      <th></th>\n",
       "      <th>vcpu</th>\n",
       "      <th>cpu_mem (GiB)</th>\n",
       "      <th>cpu_type</th>\n",
       "    </tr>\n",
       "    <tr>\n",
       "      <th>Instance</th>\n",
       "      <th></th>\n",
       "      <th></th>\n",
       "      <th></th>\n",
       "    </tr>\n",
       "  </thead>\n",
       "  <tbody>\n",
       "    <tr>\n",
       "      <th>r6i.large</th>\n",
       "      <td>2</td>\n",
       "      <td>16.0</td>\n",
       "      <td>Intel Xeon 8375C (Ice Lake)</td>\n",
       "    </tr>\n",
       "    <tr>\n",
       "      <th>m6i.xlarge</th>\n",
       "      <td>4</td>\n",
       "      <td>16.0</td>\n",
       "      <td>Intel Xeon 8375C (Ice Lake)</td>\n",
       "    </tr>\n",
       "    <tr>\n",
       "      <th>c6i.2xlarge</th>\n",
       "      <td>8</td>\n",
       "      <td>16.0</td>\n",
       "      <td>Intel Xeon 8375C (Ice Lake)</td>\n",
       "    </tr>\n",
       "  </tbody>\n",
       "</table>\n",
       "</div>"
      ],
      "text/plain": [
       "             vcpu  cpu_mem (GiB)                     cpu_type\n",
       "Instance                                                     \n",
       "r6i.large       2           16.0  Intel Xeon 8375C (Ice Lake)\n",
       "m6i.xlarge      4           16.0  Intel Xeon 8375C (Ice Lake)\n",
       "c6i.2xlarge     8           16.0  Intel Xeon 8375C (Ice Lake)"
      ]
     },
     "metadata": {},
     "output_type": "display_data"
    },
    {
     "data": {
      "image/png": "[encoded data removed]",
      "text/plain": [
       "<Figure size 1500x1500 with 4 Axes>"
      ]
     },
     "metadata": {},
     "output_type": "display_data"
    }
   ],
   "source": [
    "e3_legend = env_data[env_data.index.isin([\"env8\",\"env9\",\"env10\"])].iloc[:,:4]\n",
    "e3_legend = e3_legend.reset_index(drop=True).set_index(\"Instance\")\n",
    "display(e3_legend)\n",
    "\n",
    "fig, axs = plt.subplots(2, 2, figsize=(15, 15))\n",
    "\n",
    "sns.barplot(exp3, x=\"Instance\", y=\"c_CNN_time\", ax=axs[0][0]);\n",
    "axs[0][0].set_ylabel('CPU Runtime (ms)', size=15)\n",
    "axs[0][0].set_xlabel('Instance', size=15);\n",
    "axs[0][0].set_title('CNN', size=20);\n",
    "\n",
    "sns.barplot(exp3, x=\"Instance\", y=\"c_DNN_time\", ax=axs[0][1]);\n",
    "axs[0][1].set_ylabel('CPU Runtime (ms)', size=15)\n",
    "axs[0][1].set_xlabel('Instance', size=15);\n",
    "axs[0][1].set_title('DNN', size=20);\n",
    "\n",
    "sns.barplot(exp3, x=\"Instance\", y=\"c_LSTM_time\", ax=axs[1][0]);\n",
    "axs[1][0].set_ylabel('CPU Runtime (ms)', size=15)\n",
    "axs[1][0].set_xlabel('Instance', size=15);\n",
    "axs[1][0].set_title('LSTM', size=20);\n",
    "\n",
    "sns.barplot(exp3, x=\"Instance\", y=\"c_transformer_time\", ax=axs[1][1]);\n",
    "axs[1][1].set_ylabel('CPU Runtime (ms)', size=15)\n",
    "axs[1][1].set_xlabel('Instance', size=15);\n",
    "axs[1][1].set_title('Transformer', size=20);"
   ]
  },
  {
   "cell_type": "markdown",
   "id": "36f1c01d",
   "metadata": {},
   "source": [
    "Again, we see an increase in performace, but is a lot more this time. So scaling the number of vCPUs produces much more performance gains than scaling the CPU memory."
   ]
  },
  {
   "cell_type": "markdown",
   "id": "6e3598d0",
   "metadata": {},
   "source": [
    "## Experiment 4 - Introducing the Graphics Processing Unit\n",
    "Here, we will attempt to hold CPU architecture constant while introducing different types of GPUs.\n",
    "\n",
    "Given the publically available AWS instances, it was difficult to find instances with different GPUs that had the exact same CPU specs, though we did our best to hold them constant."
   ]
  },
  {
   "cell_type": "code",
   "execution_count": 19,
   "id": "b2dc4b28",
   "metadata": {},
   "outputs": [],
   "source": [
    "# Still needs data"
   ]
  },
  {
   "cell_type": "markdown",
   "id": "db226957",
   "metadata": {},
   "source": [
    "## Datahub Data"
   ]
  },
  {
   "cell_type": "code",
   "execution_count": 20,
   "id": "4d5b0a6a",
   "metadata": {},
   "outputs": [
    {
     "data": {
      "text/html": [
       "<div>\n",
       "<style scoped>\n",
       "    .dataframe tbody tr th:only-of-type {\n",
       "        vertical-align: middle;\n",
       "    }\n",
       "\n",
       "    .dataframe tbody tr th {\n",
       "        vertical-align: top;\n",
       "    }\n",
       "\n",
       "    .dataframe thead th {\n",
       "        text-align: right;\n",
       "    }\n",
       "</style>\n",
       "<table border=\"1\" class=\"dataframe\">\n",
       "  <thead>\n",
       "    <tr style=\"text-align: right;\">\n",
       "      <th></th>\n",
       "      <th>Environment</th>\n",
       "      <th>c_CNN_time</th>\n",
       "      <th>c_DNN_time</th>\n",
       "      <th>c_LSTM_time</th>\n",
       "      <th>c_transformer_time</th>\n",
       "      <th>g_CNN_time</th>\n",
       "      <th>g_DNN_time</th>\n",
       "      <th>g_transformer_time</th>\n",
       "      <th>g_LSTM_time</th>\n",
       "    </tr>\n",
       "  </thead>\n",
       "  <tbody>\n",
       "    <tr>\n",
       "      <th>0</th>\n",
       "      <td>datahub1</td>\n",
       "      <td>10059.000</td>\n",
       "      <td>13676.000</td>\n",
       "      <td>87395.000</td>\n",
       "      <td>68193.000</td>\n",
       "      <td>[1451.0, 1.159]</td>\n",
       "      <td>[22.576, 2.88]</td>\n",
       "      <td>[81.142, 9.617]</td>\n",
       "      <td>NaN</td>\n",
       "    </tr>\n",
       "    <tr>\n",
       "      <th>1</th>\n",
       "      <td>datahub10</td>\n",
       "      <td>22.238</td>\n",
       "      <td>50.162</td>\n",
       "      <td>274.854</td>\n",
       "      <td>261.713</td>\n",
       "      <td>[1309.0, 0.93]</td>\n",
       "      <td>[11.884, 2.466]</td>\n",
       "      <td>[32.986, 6.056]</td>\n",
       "      <td>NaN</td>\n",
       "    </tr>\n",
       "    <tr>\n",
       "      <th>2</th>\n",
       "      <td>datahub2</td>\n",
       "      <td>4267.000</td>\n",
       "      <td>4488.000</td>\n",
       "      <td>62788.000</td>\n",
       "      <td>15780.000</td>\n",
       "      <td>[1384.0, 1.154]</td>\n",
       "      <td>[17.723, 2.864]</td>\n",
       "      <td>[92.822, 9.504]</td>\n",
       "      <td>NaN</td>\n",
       "    </tr>\n",
       "    <tr>\n",
       "      <th>3</th>\n",
       "      <td>datahub3</td>\n",
       "      <td>675.796</td>\n",
       "      <td>1191.000</td>\n",
       "      <td>7188.000</td>\n",
       "      <td>4690.000</td>\n",
       "      <td>[1573.0, 1.138]</td>\n",
       "      <td>[18.172, 2.858]</td>\n",
       "      <td>[60.954, 9.515]</td>\n",
       "      <td>NaN</td>\n",
       "    </tr>\n",
       "    <tr>\n",
       "      <th>4</th>\n",
       "      <td>datahub4</td>\n",
       "      <td>26.471</td>\n",
       "      <td>235.421</td>\n",
       "      <td>789.155</td>\n",
       "      <td>1127.000</td>\n",
       "      <td>[1549.0, 1.174]</td>\n",
       "      <td>[20.413, 2.864]</td>\n",
       "      <td>[59.692, 9.808]</td>\n",
       "      <td>NaN</td>\n",
       "    </tr>\n",
       "    <tr>\n",
       "      <th>5</th>\n",
       "      <td>datahub5</td>\n",
       "      <td>119.312</td>\n",
       "      <td>147.005</td>\n",
       "      <td>813.041</td>\n",
       "      <td>495.764</td>\n",
       "      <td>[1469.0, 1.139]</td>\n",
       "      <td>[16.187, 2.862]</td>\n",
       "      <td>[57.146, 9.494]</td>\n",
       "      <td>NaN</td>\n",
       "    </tr>\n",
       "    <tr>\n",
       "      <th>6</th>\n",
       "      <td>datahub6</td>\n",
       "      <td>19016.000</td>\n",
       "      <td>55.792</td>\n",
       "      <td>1971799.000</td>\n",
       "      <td>166497.000</td>\n",
       "      <td>[1115.0, 0.935]</td>\n",
       "      <td>[12.194, 2.468]</td>\n",
       "      <td>[41.017, 6.058]</td>\n",
       "      <td>NaN</td>\n",
       "    </tr>\n",
       "    <tr>\n",
       "      <th>7</th>\n",
       "      <td>datahub7</td>\n",
       "      <td>8634.000</td>\n",
       "      <td>46.449</td>\n",
       "      <td>903916.000</td>\n",
       "      <td>67301.000</td>\n",
       "      <td>[1240.0, 0.935]</td>\n",
       "      <td>[12.7, 2.475]</td>\n",
       "      <td>[33.814, 6.028]</td>\n",
       "      <td>NaN</td>\n",
       "    </tr>\n",
       "    <tr>\n",
       "      <th>8</th>\n",
       "      <td>datahub8</td>\n",
       "      <td>291.756</td>\n",
       "      <td>56.872</td>\n",
       "      <td>909.861</td>\n",
       "      <td>6987.000</td>\n",
       "      <td>[1254.0, 0.932]</td>\n",
       "      <td>[20.241, 2.464]</td>\n",
       "      <td>[34.279, 6.034]</td>\n",
       "      <td>NaN</td>\n",
       "    </tr>\n",
       "    <tr>\n",
       "      <th>9</th>\n",
       "      <td>datahub9</td>\n",
       "      <td>83.435</td>\n",
       "      <td>49.028</td>\n",
       "      <td>380.283</td>\n",
       "      <td>701.389</td>\n",
       "      <td>[1491.0, 0.936]</td>\n",
       "      <td>[11.83, 2.481]</td>\n",
       "      <td>[33.039, 6.075]</td>\n",
       "      <td>NaN</td>\n",
       "    </tr>\n",
       "  </tbody>\n",
       "</table>\n",
       "</div>"
      ],
      "text/plain": [
       "  Environment  c_CNN_time  c_DNN_time  c_LSTM_time  c_transformer_time  \\\n",
       "0    datahub1   10059.000   13676.000    87395.000           68193.000   \n",
       "1   datahub10      22.238      50.162      274.854             261.713   \n",
       "2    datahub2    4267.000    4488.000    62788.000           15780.000   \n",
       "3    datahub3     675.796    1191.000     7188.000            4690.000   \n",
       "4    datahub4      26.471     235.421      789.155            1127.000   \n",
       "5    datahub5     119.312     147.005      813.041             495.764   \n",
       "6    datahub6   19016.000      55.792  1971799.000          166497.000   \n",
       "7    datahub7    8634.000      46.449   903916.000           67301.000   \n",
       "8    datahub8     291.756      56.872      909.861            6987.000   \n",
       "9    datahub9      83.435      49.028      380.283             701.389   \n",
       "\n",
       "        g_CNN_time       g_DNN_time g_transformer_time  g_LSTM_time  \n",
       "0  [1451.0, 1.159]   [22.576, 2.88]    [81.142, 9.617]          NaN  \n",
       "1   [1309.0, 0.93]  [11.884, 2.466]    [32.986, 6.056]          NaN  \n",
       "2  [1384.0, 1.154]  [17.723, 2.864]    [92.822, 9.504]          NaN  \n",
       "3  [1573.0, 1.138]  [18.172, 2.858]    [60.954, 9.515]          NaN  \n",
       "4  [1549.0, 1.174]  [20.413, 2.864]    [59.692, 9.808]          NaN  \n",
       "5  [1469.0, 1.139]  [16.187, 2.862]    [57.146, 9.494]          NaN  \n",
       "6  [1115.0, 0.935]  [12.194, 2.468]    [41.017, 6.058]          NaN  \n",
       "7  [1240.0, 0.935]    [12.7, 2.475]    [33.814, 6.028]          NaN  \n",
       "8  [1254.0, 0.932]  [20.241, 2.464]    [34.279, 6.034]          NaN  \n",
       "9  [1491.0, 0.936]   [11.83, 2.481]    [33.039, 6.075]          NaN  "
      ]
     },
     "execution_count": 20,
     "metadata": {},
     "output_type": "execute_result"
    }
   ],
   "source": [
    "\"\"\" Filter out the aws environments \"\"\"\n",
    "datahub = mean_trials.reset_index()[mean_trials.reset_index()[\"Environment\"].str.contains(\"datahub\")]\n",
    "datahub = datahub.reset_index(drop=True)\n",
    "datahub"
   ]
  },
  {
   "cell_type": "code",
   "execution_count": null,
   "id": "0937b19f",
   "metadata": {},
   "outputs": [],
   "source": []
  },
  {
   "cell_type": "code",
   "execution_count": null,
   "id": "ba029847",
   "metadata": {},
   "outputs": [],
   "source": []
  },
  {
   "cell_type": "code",
   "execution_count": null,
   "id": "e94eec82",
   "metadata": {},
   "outputs": [],
   "source": []
  },
  {
   "cell_type": "code",
   "execution_count": null,
   "id": "3af6ea51",
   "metadata": {},
   "outputs": [],
   "source": []
  },
  {
   "cell_type": "code",
   "execution_count": null,
   "id": "be6e32ec",
   "metadata": {},
   "outputs": [],
   "source": []
  },
  {
   "cell_type": "code",
   "execution_count": null,
   "id": "9e2291e4",
   "metadata": {},
   "outputs": [],
   "source": []
  },
  {
   "cell_type": "code",
   "execution_count": null,
   "id": "771b78d4",
   "metadata": {},
   "outputs": [],
   "source": []
  },
  {
   "cell_type": "markdown",
   "id": "5f84eb0e",
   "metadata": {},
   "source": [
    "## Data Cleaning (Large Sample Data)\n",
    "We will convert everything into milliseconds"
   ]
  },
  {
   "cell_type": "code",
   "execution_count": 21,
   "id": "6323abf2",
   "metadata": {},
   "outputs": [
    {
     "data": {
      "text/html": [
       "<div>\n",
       "<style scoped>\n",
       "    .dataframe tbody tr th:only-of-type {\n",
       "        vertical-align: middle;\n",
       "    }\n",
       "\n",
       "    .dataframe tbody tr th {\n",
       "        vertical-align: top;\n",
       "    }\n",
       "\n",
       "    .dataframe thead th {\n",
       "        text-align: right;\n",
       "    }\n",
       "</style>\n",
       "<table border=\"1\" class=\"dataframe\">\n",
       "  <thead>\n",
       "    <tr style=\"text-align: right;\">\n",
       "      <th></th>\n",
       "      <th>Environment</th>\n",
       "      <th>Trial</th>\n",
       "      <th>Hardware</th>\n",
       "      <th>Model</th>\n",
       "      <th>50_samples</th>\n",
       "      <th>100_samples</th>\n",
       "      <th>500_samples</th>\n",
       "      <th>1000_samples</th>\n",
       "      <th>2000_samples</th>\n",
       "      <th>5000_samples</th>\n",
       "    </tr>\n",
       "  </thead>\n",
       "  <tbody>\n",
       "    <tr>\n",
       "      <th>0</th>\n",
       "      <td>datahub1</td>\n",
       "      <td>1</td>\n",
       "      <td>cpu</td>\n",
       "      <td>CNN</td>\n",
       "      <td>3.002286</td>\n",
       "      <td>6.584249</td>\n",
       "      <td>6.470419</td>\n",
       "      <td>9.318261566979345</td>\n",
       "      <td>NaN</td>\n",
       "      <td>14.207533</td>\n",
       "    </tr>\n",
       "    <tr>\n",
       "      <th>1</th>\n",
       "      <td>datahub1</td>\n",
       "      <td>1</td>\n",
       "      <td>cpu</td>\n",
       "      <td>DNN</td>\n",
       "      <td>5.385304</td>\n",
       "      <td>4.988414</td>\n",
       "      <td>10.940336</td>\n",
       "      <td>13.659167839039583</td>\n",
       "      <td>NaN</td>\n",
       "      <td>72.596683</td>\n",
       "    </tr>\n",
       "    <tr>\n",
       "      <th>2</th>\n",
       "      <td>datahub1</td>\n",
       "      <td>1</td>\n",
       "      <td>cpu</td>\n",
       "      <td>LSTM</td>\n",
       "      <td>60.165908</td>\n",
       "      <td>91.994842</td>\n",
       "      <td>219.343836</td>\n",
       "      <td>347.4516330069746</td>\n",
       "      <td>528.636919</td>\n",
       "      <td>NaN</td>\n",
       "    </tr>\n",
       "    <tr>\n",
       "      <th>3</th>\n",
       "      <td>datahub1</td>\n",
       "      <td>1</td>\n",
       "      <td>cpu</td>\n",
       "      <td>transformer</td>\n",
       "      <td>42.728319</td>\n",
       "      <td>53.884598</td>\n",
       "      <td>129.266172</td>\n",
       "      <td>226.27289840998128</td>\n",
       "      <td>NaN</td>\n",
       "      <td>NaN</td>\n",
       "    </tr>\n",
       "    <tr>\n",
       "      <th>4</th>\n",
       "      <td>datahub1</td>\n",
       "      <td>1</td>\n",
       "      <td>gpu</td>\n",
       "      <td>CNN</td>\n",
       "      <td>0.002214</td>\n",
       "      <td>0.002042</td>\n",
       "      <td>0.003591</td>\n",
       "      <td>0.003689524019137025</td>\n",
       "      <td>NaN</td>\n",
       "      <td>0.004648</td>\n",
       "    </tr>\n",
       "  </tbody>\n",
       "</table>\n",
       "</div>"
      ],
      "text/plain": [
       "  Environment  Trial Hardware        Model  50_samples  100_samples  \\\n",
       "0    datahub1      1      cpu          CNN    3.002286     6.584249   \n",
       "1    datahub1      1      cpu          DNN    5.385304     4.988414   \n",
       "2    datahub1      1      cpu         LSTM   60.165908    91.994842   \n",
       "3    datahub1      1      cpu  transformer   42.728319    53.884598   \n",
       "4    datahub1      1      gpu          CNN    0.002214     0.002042   \n",
       "\n",
       "   500_samples          1000_samples  2000_samples  5000_samples  \n",
       "0     6.470419     9.318261566979345           NaN     14.207533  \n",
       "1    10.940336    13.659167839039583           NaN     72.596683  \n",
       "2   219.343836     347.4516330069746    528.636919           NaN  \n",
       "3   129.266172    226.27289840998128           NaN           NaN  \n",
       "4     0.003591  0.003689524019137025           NaN      0.004648  "
      ]
     },
     "execution_count": 21,
     "metadata": {},
     "output_type": "execute_result"
    }
   ],
   "source": [
    "large_sample_data = pd.read_csv(\"data/large_sample_data.csv\", index_col=0)\n",
    "large_sample_data.head()"
   ]
  },
  {
   "cell_type": "code",
   "execution_count": 22,
   "id": "c6df73fe",
   "metadata": {},
   "outputs": [],
   "source": [
    "def standardize_l_time(time):\n",
    "    if (type(time)==float):\n",
    "        if (time == np.nan):\n",
    "            return time\n",
    "        else:\n",
    "            return time*1000\n",
    "    else:\n",
    "        return np.nan\n",
    "\n",
    "for col in large_sample_data.columns[4:]:\n",
    "    large_sample_data[col] = large_sample_data[col].apply(standardize_l_time).astype(float)"
   ]
  },
  {
   "cell_type": "code",
   "execution_count": 23,
   "id": "ed6ee0fa",
   "metadata": {},
   "outputs": [
    {
     "data": {
      "text/html": [
       "<div>\n",
       "<style scoped>\n",
       "    .dataframe tbody tr th:only-of-type {\n",
       "        vertical-align: middle;\n",
       "    }\n",
       "\n",
       "    .dataframe tbody tr th {\n",
       "        vertical-align: top;\n",
       "    }\n",
       "\n",
       "    .dataframe thead th {\n",
       "        text-align: right;\n",
       "    }\n",
       "</style>\n",
       "<table border=\"1\" class=\"dataframe\">\n",
       "  <thead>\n",
       "    <tr style=\"text-align: right;\">\n",
       "      <th></th>\n",
       "      <th>Environment</th>\n",
       "      <th>Trial</th>\n",
       "      <th>Hardware</th>\n",
       "      <th>Model</th>\n",
       "      <th>50_samples</th>\n",
       "      <th>100_samples</th>\n",
       "      <th>500_samples</th>\n",
       "      <th>1000_samples</th>\n",
       "      <th>2000_samples</th>\n",
       "      <th>5000_samples</th>\n",
       "    </tr>\n",
       "  </thead>\n",
       "  <tbody>\n",
       "    <tr>\n",
       "      <th>0</th>\n",
       "      <td>datahub1</td>\n",
       "      <td>1</td>\n",
       "      <td>cpu</td>\n",
       "      <td>CNN</td>\n",
       "      <td>3002.285565</td>\n",
       "      <td>6584.249189</td>\n",
       "      <td>6470.418525</td>\n",
       "      <td>NaN</td>\n",
       "      <td>NaN</td>\n",
       "      <td>14207.533342</td>\n",
       "    </tr>\n",
       "    <tr>\n",
       "      <th>1</th>\n",
       "      <td>datahub1</td>\n",
       "      <td>1</td>\n",
       "      <td>cpu</td>\n",
       "      <td>DNN</td>\n",
       "      <td>5385.303890</td>\n",
       "      <td>4988.413676</td>\n",
       "      <td>10940.336152</td>\n",
       "      <td>NaN</td>\n",
       "      <td>NaN</td>\n",
       "      <td>72596.683331</td>\n",
       "    </tr>\n",
       "    <tr>\n",
       "      <th>2</th>\n",
       "      <td>datahub1</td>\n",
       "      <td>1</td>\n",
       "      <td>cpu</td>\n",
       "      <td>LSTM</td>\n",
       "      <td>60165.907882</td>\n",
       "      <td>91994.842183</td>\n",
       "      <td>219343.836395</td>\n",
       "      <td>NaN</td>\n",
       "      <td>528636.918676</td>\n",
       "      <td>NaN</td>\n",
       "    </tr>\n",
       "    <tr>\n",
       "      <th>3</th>\n",
       "      <td>datahub1</td>\n",
       "      <td>1</td>\n",
       "      <td>cpu</td>\n",
       "      <td>transformer</td>\n",
       "      <td>42728.318588</td>\n",
       "      <td>53884.597703</td>\n",
       "      <td>129266.172050</td>\n",
       "      <td>NaN</td>\n",
       "      <td>NaN</td>\n",
       "      <td>NaN</td>\n",
       "    </tr>\n",
       "    <tr>\n",
       "      <th>4</th>\n",
       "      <td>datahub1</td>\n",
       "      <td>1</td>\n",
       "      <td>gpu</td>\n",
       "      <td>CNN</td>\n",
       "      <td>2.213949</td>\n",
       "      <td>2.042289</td>\n",
       "      <td>3.590692</td>\n",
       "      <td>NaN</td>\n",
       "      <td>NaN</td>\n",
       "      <td>4.648195</td>\n",
       "    </tr>\n",
       "    <tr>\n",
       "      <th>5</th>\n",
       "      <td>datahub1</td>\n",
       "      <td>1</td>\n",
       "      <td>gpu</td>\n",
       "      <td>DNN</td>\n",
       "      <td>0.870409</td>\n",
       "      <td>0.752317</td>\n",
       "      <td>0.970322</td>\n",
       "      <td>NaN</td>\n",
       "      <td>NaN</td>\n",
       "      <td>0.924379</td>\n",
       "    </tr>\n",
       "    <tr>\n",
       "      <th>6</th>\n",
       "      <td>datahub1</td>\n",
       "      <td>1</td>\n",
       "      <td>gpu</td>\n",
       "      <td>transformer</td>\n",
       "      <td>4.688459</td>\n",
       "      <td>4.917185</td>\n",
       "      <td>179.394057</td>\n",
       "      <td>NaN</td>\n",
       "      <td>NaN</td>\n",
       "      <td>NaN</td>\n",
       "    </tr>\n",
       "    <tr>\n",
       "      <th>7</th>\n",
       "      <td>datahub10</td>\n",
       "      <td>1</td>\n",
       "      <td>cpu</td>\n",
       "      <td>CNN</td>\n",
       "      <td>9.027534</td>\n",
       "      <td>9.553734</td>\n",
       "      <td>26.913412</td>\n",
       "      <td>NaN</td>\n",
       "      <td>NaN</td>\n",
       "      <td>337.870998</td>\n",
       "    </tr>\n",
       "    <tr>\n",
       "      <th>8</th>\n",
       "      <td>datahub10</td>\n",
       "      <td>1</td>\n",
       "      <td>cpu</td>\n",
       "      <td>DNN</td>\n",
       "      <td>16.661577</td>\n",
       "      <td>9.730204</td>\n",
       "      <td>29.965423</td>\n",
       "      <td>NaN</td>\n",
       "      <td>NaN</td>\n",
       "      <td>388.913819</td>\n",
       "    </tr>\n",
       "    <tr>\n",
       "      <th>9</th>\n",
       "      <td>datahub10</td>\n",
       "      <td>1</td>\n",
       "      <td>cpu</td>\n",
       "      <td>LSTM</td>\n",
       "      <td>121.685140</td>\n",
       "      <td>302.591314</td>\n",
       "      <td>1211.506206</td>\n",
       "      <td>NaN</td>\n",
       "      <td>2975.242519</td>\n",
       "      <td>NaN</td>\n",
       "    </tr>\n",
       "    <tr>\n",
       "      <th>10</th>\n",
       "      <td>datahub10</td>\n",
       "      <td>1</td>\n",
       "      <td>cpu</td>\n",
       "      <td>transformer</td>\n",
       "      <td>357.009766</td>\n",
       "      <td>801.771339</td>\n",
       "      <td>4135.478546</td>\n",
       "      <td>NaN</td>\n",
       "      <td>NaN</td>\n",
       "      <td>NaN</td>\n",
       "    </tr>\n",
       "    <tr>\n",
       "      <th>11</th>\n",
       "      <td>datahub10</td>\n",
       "      <td>1</td>\n",
       "      <td>gpu</td>\n",
       "      <td>CNN</td>\n",
       "      <td>3.924221</td>\n",
       "      <td>2.721081</td>\n",
       "      <td>4.318901</td>\n",
       "      <td>NaN</td>\n",
       "      <td>NaN</td>\n",
       "      <td>5.595203</td>\n",
       "    </tr>\n",
       "    <tr>\n",
       "      <th>12</th>\n",
       "      <td>datahub10</td>\n",
       "      <td>1</td>\n",
       "      <td>gpu</td>\n",
       "      <td>DNN</td>\n",
       "      <td>0.963790</td>\n",
       "      <td>0.849560</td>\n",
       "      <td>0.834350</td>\n",
       "      <td>NaN</td>\n",
       "      <td>NaN</td>\n",
       "      <td>0.603960</td>\n",
       "    </tr>\n",
       "    <tr>\n",
       "      <th>13</th>\n",
       "      <td>datahub10</td>\n",
       "      <td>1</td>\n",
       "      <td>gpu</td>\n",
       "      <td>transformer</td>\n",
       "      <td>2.442451</td>\n",
       "      <td>2.080671</td>\n",
       "      <td>10.480194</td>\n",
       "      <td>NaN</td>\n",
       "      <td>NaN</td>\n",
       "      <td>NaN</td>\n",
       "    </tr>\n",
       "    <tr>\n",
       "      <th>14</th>\n",
       "      <td>datahub2</td>\n",
       "      <td>1</td>\n",
       "      <td>cpu</td>\n",
       "      <td>CNN</td>\n",
       "      <td>1101.482214</td>\n",
       "      <td>1089.674183</td>\n",
       "      <td>2041.979206</td>\n",
       "      <td>NaN</td>\n",
       "      <td>NaN</td>\n",
       "      <td>6005.461513</td>\n",
       "    </tr>\n",
       "    <tr>\n",
       "      <th>15</th>\n",
       "      <td>datahub2</td>\n",
       "      <td>1</td>\n",
       "      <td>cpu</td>\n",
       "      <td>DNN</td>\n",
       "      <td>673.115543</td>\n",
       "      <td>785.319421</td>\n",
       "      <td>1644.653149</td>\n",
       "      <td>NaN</td>\n",
       "      <td>NaN</td>\n",
       "      <td>16728.352576</td>\n",
       "    </tr>\n",
       "    <tr>\n",
       "      <th>16</th>\n",
       "      <td>datahub2</td>\n",
       "      <td>1</td>\n",
       "      <td>cpu</td>\n",
       "      <td>LSTM</td>\n",
       "      <td>29178.707658</td>\n",
       "      <td>58186.171654</td>\n",
       "      <td>108248.299256</td>\n",
       "      <td>NaN</td>\n",
       "      <td>200556.108472</td>\n",
       "      <td>NaN</td>\n",
       "    </tr>\n",
       "    <tr>\n",
       "      <th>17</th>\n",
       "      <td>datahub2</td>\n",
       "      <td>1</td>\n",
       "      <td>cpu</td>\n",
       "      <td>transformer</td>\n",
       "      <td>9828.656826</td>\n",
       "      <td>14073.809098</td>\n",
       "      <td>50556.868369</td>\n",
       "      <td>NaN</td>\n",
       "      <td>NaN</td>\n",
       "      <td>NaN</td>\n",
       "    </tr>\n",
       "    <tr>\n",
       "      <th>18</th>\n",
       "      <td>datahub2</td>\n",
       "      <td>1</td>\n",
       "      <td>gpu</td>\n",
       "      <td>CNN</td>\n",
       "      <td>2.485028</td>\n",
       "      <td>2.455104</td>\n",
       "      <td>3.856313</td>\n",
       "      <td>NaN</td>\n",
       "      <td>NaN</td>\n",
       "      <td>4.978000</td>\n",
       "    </tr>\n",
       "    <tr>\n",
       "      <th>19</th>\n",
       "      <td>datahub2</td>\n",
       "      <td>1</td>\n",
       "      <td>gpu</td>\n",
       "      <td>DNN</td>\n",
       "      <td>0.804040</td>\n",
       "      <td>1.597614</td>\n",
       "      <td>0.797850</td>\n",
       "      <td>NaN</td>\n",
       "      <td>NaN</td>\n",
       "      <td>0.932780</td>\n",
       "    </tr>\n",
       "  </tbody>\n",
       "</table>\n",
       "</div>"
      ],
      "text/plain": [
       "   Environment  Trial Hardware        Model    50_samples   100_samples  \\\n",
       "0     datahub1      1      cpu          CNN   3002.285565   6584.249189   \n",
       "1     datahub1      1      cpu          DNN   5385.303890   4988.413676   \n",
       "2     datahub1      1      cpu         LSTM  60165.907882  91994.842183   \n",
       "3     datahub1      1      cpu  transformer  42728.318588  53884.597703   \n",
       "4     datahub1      1      gpu          CNN      2.213949      2.042289   \n",
       "5     datahub1      1      gpu          DNN      0.870409      0.752317   \n",
       "6     datahub1      1      gpu  transformer      4.688459      4.917185   \n",
       "7    datahub10      1      cpu          CNN      9.027534      9.553734   \n",
       "8    datahub10      1      cpu          DNN     16.661577      9.730204   \n",
       "9    datahub10      1      cpu         LSTM    121.685140    302.591314   \n",
       "10   datahub10      1      cpu  transformer    357.009766    801.771339   \n",
       "11   datahub10      1      gpu          CNN      3.924221      2.721081   \n",
       "12   datahub10      1      gpu          DNN      0.963790      0.849560   \n",
       "13   datahub10      1      gpu  transformer      2.442451      2.080671   \n",
       "14    datahub2      1      cpu          CNN   1101.482214   1089.674183   \n",
       "15    datahub2      1      cpu          DNN    673.115543    785.319421   \n",
       "16    datahub2      1      cpu         LSTM  29178.707658  58186.171654   \n",
       "17    datahub2      1      cpu  transformer   9828.656826  14073.809098   \n",
       "18    datahub2      1      gpu          CNN      2.485028      2.455104   \n",
       "19    datahub2      1      gpu          DNN      0.804040      1.597614   \n",
       "\n",
       "      500_samples  1000_samples   2000_samples  5000_samples  \n",
       "0     6470.418525           NaN            NaN  14207.533342  \n",
       "1    10940.336152           NaN            NaN  72596.683331  \n",
       "2   219343.836395           NaN  528636.918676           NaN  \n",
       "3   129266.172050           NaN            NaN           NaN  \n",
       "4        3.590692           NaN            NaN      4.648195  \n",
       "5        0.970322           NaN            NaN      0.924379  \n",
       "6      179.394057           NaN            NaN           NaN  \n",
       "7       26.913412           NaN            NaN    337.870998  \n",
       "8       29.965423           NaN            NaN    388.913819  \n",
       "9     1211.506206           NaN    2975.242519           NaN  \n",
       "10    4135.478546           NaN            NaN           NaN  \n",
       "11       4.318901           NaN            NaN      5.595203  \n",
       "12       0.834350           NaN            NaN      0.603960  \n",
       "13      10.480194           NaN            NaN           NaN  \n",
       "14    2041.979206           NaN            NaN   6005.461513  \n",
       "15    1644.653149           NaN            NaN  16728.352576  \n",
       "16  108248.299256           NaN  200556.108472           NaN  \n",
       "17   50556.868369           NaN            NaN           NaN  \n",
       "18       3.856313           NaN            NaN      4.978000  \n",
       "19       0.797850           NaN            NaN      0.932780  "
      ]
     },
     "execution_count": 23,
     "metadata": {},
     "output_type": "execute_result"
    }
   ],
   "source": [
    "large_sample_data.head(20)"
   ]
  },
  {
   "cell_type": "markdown",
   "id": "f2ab5839",
   "metadata": {},
   "source": [
    "## Data Analysis (Large Sample Data)"
   ]
  },
  {
   "cell_type": "code",
   "execution_count": null,
   "id": "cc7888e2",
   "metadata": {},
   "outputs": [],
   "source": []
  },
  {
   "cell_type": "code",
   "execution_count": null,
   "id": "2908e013",
   "metadata": {},
   "outputs": [],
   "source": []
  },
  {
   "cell_type": "code",
   "execution_count": null,
   "id": "58d60c9e",
   "metadata": {},
   "outputs": [],
   "source": []
  }
 ],
 "metadata": {
  "kernelspec": {
   "display_name": "Python 3 (ipykernel)",
   "language": "python",
   "name": "python3"
  },
  "language_info": {
   "codemirror_mode": {
    "name": "ipython",
    "version": 3
   },
   "file_extension": ".py",
   "mimetype": "text/x-python",
   "name": "python",
   "nbconvert_exporter": "python",
   "pygments_lexer": "ipython3",
   "version": "3.11.4"
  }
 },
 "nbformat": 4,
 "nbformat_minor": 5
}
